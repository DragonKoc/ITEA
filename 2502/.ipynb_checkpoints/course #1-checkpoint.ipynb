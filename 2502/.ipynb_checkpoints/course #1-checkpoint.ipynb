{
 "cells": [
  {
   "cell_type": "code",
   "execution_count": 1,
   "metadata": {},
   "outputs": [],
   "source": [
    "import numpy as np"
   ]
  },
  {
   "cell_type": "code",
   "execution_count": 2,
   "metadata": {},
   "outputs": [],
   "source": [
    "a = np.array([1, 2, 3, 4])"
   ]
  },
  {
   "cell_type": "code",
   "execution_count": 3,
   "metadata": {},
   "outputs": [
    {
     "data": {
      "text/plain": [
       "array([1, 2, 3, 4])"
      ]
     },
     "execution_count": 3,
     "metadata": {},
     "output_type": "execute_result"
    }
   ],
   "source": [
    "a"
   ]
  },
  {
   "cell_type": "code",
   "execution_count": 4,
   "metadata": {},
   "outputs": [
    {
     "data": {
      "text/plain": [
       "dtype('int64')"
      ]
     },
     "execution_count": 4,
     "metadata": {},
     "output_type": "execute_result"
    }
   ],
   "source": [
    "a.dtype"
   ]
  },
  {
   "cell_type": "code",
   "execution_count": 5,
   "metadata": {},
   "outputs": [],
   "source": [
    "a = np.array([1., 2, 3, 4])"
   ]
  },
  {
   "cell_type": "code",
   "execution_count": 6,
   "metadata": {},
   "outputs": [
    {
     "data": {
      "text/plain": [
       "dtype('float64')"
      ]
     },
     "execution_count": 6,
     "metadata": {},
     "output_type": "execute_result"
    }
   ],
   "source": [
    "a.dtype"
   ]
  },
  {
   "cell_type": "code",
   "execution_count": 7,
   "metadata": {},
   "outputs": [],
   "source": [
    "a = np.array([1, 2, 3, 4], dtype=np.float32)"
   ]
  },
  {
   "cell_type": "code",
   "execution_count": 8,
   "metadata": {},
   "outputs": [
    {
     "data": {
      "text/plain": [
       "4"
      ]
     },
     "execution_count": 8,
     "metadata": {},
     "output_type": "execute_result"
    }
   ],
   "source": [
    "a.size"
   ]
  },
  {
   "cell_type": "code",
   "execution_count": 9,
   "metadata": {},
   "outputs": [
    {
     "data": {
      "text/plain": [
       "array([ 0,  1,  2,  3,  4,  5,  6,  7,  8,  9, 10, 11])"
      ]
     },
     "execution_count": 9,
     "metadata": {},
     "output_type": "execute_result"
    }
   ],
   "source": [
    "a = np.arange(12)\n",
    "a"
   ]
  },
  {
   "cell_type": "code",
   "execution_count": 10,
   "metadata": {},
   "outputs": [
    {
     "data": {
      "text/plain": [
       "12"
      ]
     },
     "execution_count": 10,
     "metadata": {},
     "output_type": "execute_result"
    }
   ],
   "source": [
    "a.size"
   ]
  },
  {
   "cell_type": "code",
   "execution_count": 11,
   "metadata": {},
   "outputs": [],
   "source": [
    "b = a.reshape(3, 4)"
   ]
  },
  {
   "cell_type": "code",
   "execution_count": 12,
   "metadata": {},
   "outputs": [
    {
     "data": {
      "text/plain": [
       "(3, 4)"
      ]
     },
     "execution_count": 12,
     "metadata": {},
     "output_type": "execute_result"
    }
   ],
   "source": [
    "b.shape"
   ]
  },
  {
   "cell_type": "code",
   "execution_count": 13,
   "metadata": {},
   "outputs": [
    {
     "data": {
      "text/plain": [
       "(12,)"
      ]
     },
     "execution_count": 13,
     "metadata": {},
     "output_type": "execute_result"
    }
   ],
   "source": [
    "a.shape"
   ]
  },
  {
   "cell_type": "code",
   "execution_count": 14,
   "metadata": {},
   "outputs": [
    {
     "data": {
      "text/plain": [
       "array([[[ 0,  1],\n",
       "        [ 2,  3]],\n",
       "\n",
       "       [[ 4,  5],\n",
       "        [ 6,  7]],\n",
       "\n",
       "       [[ 8,  9],\n",
       "        [10, 11]]])"
      ]
     },
     "execution_count": 14,
     "metadata": {},
     "output_type": "execute_result"
    }
   ],
   "source": [
    "b.reshape(3,2,2)"
   ]
  },
  {
   "cell_type": "code",
   "execution_count": 15,
   "metadata": {},
   "outputs": [
    {
     "data": {
      "text/plain": [
       "array([ 0,  1,  2,  3,  4,  5,  6,  7,  8,  9, 10, 11])"
      ]
     },
     "execution_count": 15,
     "metadata": {},
     "output_type": "execute_result"
    }
   ],
   "source": [
    "b.base"
   ]
  },
  {
   "cell_type": "code",
   "execution_count": 16,
   "metadata": {},
   "outputs": [],
   "source": [
    "b[0, 0] = 123"
   ]
  },
  {
   "cell_type": "code",
   "execution_count": 17,
   "metadata": {},
   "outputs": [
    {
     "data": {
      "text/plain": [
       "array([[123,   1,   2,   3],\n",
       "       [  4,   5,   6,   7],\n",
       "       [  8,   9,  10,  11]])"
      ]
     },
     "execution_count": 17,
     "metadata": {},
     "output_type": "execute_result"
    }
   ],
   "source": [
    "b"
   ]
  },
  {
   "cell_type": "code",
   "execution_count": 18,
   "metadata": {},
   "outputs": [
    {
     "data": {
      "text/plain": [
       "(32, 8)"
      ]
     },
     "execution_count": 18,
     "metadata": {},
     "output_type": "execute_result"
    }
   ],
   "source": [
    "b.strides"
   ]
  },
  {
   "cell_type": "code",
   "execution_count": 19,
   "metadata": {},
   "outputs": [
    {
     "data": {
      "text/plain": [
       "(8,)"
      ]
     },
     "execution_count": 19,
     "metadata": {},
     "output_type": "execute_result"
    }
   ],
   "source": [
    "a.strides"
   ]
  },
  {
   "cell_type": "code",
   "execution_count": 20,
   "metadata": {},
   "outputs": [
    {
     "data": {
      "text/plain": [
       "array([0., 0., 0., 0., 0., 0., 0., 0., 0., 0.])"
      ]
     },
     "execution_count": 20,
     "metadata": {},
     "output_type": "execute_result"
    }
   ],
   "source": [
    "np.zeros(10)"
   ]
  },
  {
   "cell_type": "code",
   "execution_count": 21,
   "metadata": {},
   "outputs": [
    {
     "data": {
      "text/plain": [
       "array([[0., 0., 0.],\n",
       "       [0., 0., 0.],\n",
       "       [0., 0., 0.]])"
      ]
     },
     "execution_count": 21,
     "metadata": {},
     "output_type": "execute_result"
    }
   ],
   "source": [
    "np.zeros((3,3))"
   ]
  },
  {
   "cell_type": "code",
   "execution_count": 22,
   "metadata": {},
   "outputs": [
    {
     "data": {
      "text/plain": [
       "array([[1., 0., 0., 0., 0., 0., 0., 0., 0., 0., 0., 0., 0.],\n",
       "       [0., 1., 0., 0., 0., 0., 0., 0., 0., 0., 0., 0., 0.],\n",
       "       [0., 0., 1., 0., 0., 0., 0., 0., 0., 0., 0., 0., 0.],\n",
       "       [0., 0., 0., 1., 0., 0., 0., 0., 0., 0., 0., 0., 0.],\n",
       "       [0., 0., 0., 0., 1., 0., 0., 0., 0., 0., 0., 0., 0.],\n",
       "       [0., 0., 0., 0., 0., 1., 0., 0., 0., 0., 0., 0., 0.],\n",
       "       [0., 0., 0., 0., 0., 0., 1., 0., 0., 0., 0., 0., 0.],\n",
       "       [0., 0., 0., 0., 0., 0., 0., 1., 0., 0., 0., 0., 0.],\n",
       "       [0., 0., 0., 0., 0., 0., 0., 0., 1., 0., 0., 0., 0.],\n",
       "       [0., 0., 0., 0., 0., 0., 0., 0., 0., 1., 0., 0., 0.],\n",
       "       [0., 0., 0., 0., 0., 0., 0., 0., 0., 0., 1., 0., 0.],\n",
       "       [0., 0., 0., 0., 0., 0., 0., 0., 0., 0., 0., 1., 0.],\n",
       "       [0., 0., 0., 0., 0., 0., 0., 0., 0., 0., 0., 0., 1.]])"
      ]
     },
     "execution_count": 22,
     "metadata": {},
     "output_type": "execute_result"
    }
   ],
   "source": [
    "np.eye(13)"
   ]
  },
  {
   "cell_type": "code",
   "execution_count": 23,
   "metadata": {},
   "outputs": [
    {
     "data": {
      "text/plain": [
       "array([[0., 0., 0.],\n",
       "       [0., 0., 0.],\n",
       "       [0., 0., 0.]])"
      ]
     },
     "execution_count": 23,
     "metadata": {},
     "output_type": "execute_result"
    }
   ],
   "source": [
    "np.empty((3,3))"
   ]
  },
  {
   "cell_type": "code",
   "execution_count": 24,
   "metadata": {},
   "outputs": [
    {
     "data": {
      "text/plain": [
       "array([[ 0.00000000e+000,  0.00000000e+000,  0.00000000e+000,\n",
       "         0.00000000e+000],\n",
       "       [ 0.00000000e+000,  0.00000000e+000,  0.00000000e+000,\n",
       "         0.00000000e+000],\n",
       "       [-1.28822975e-231, -1.28822975e-231, -1.28822975e-231,\n",
       "        -1.28822975e-231],\n",
       "       [ 4.44659081e-323,  0.00000000e+000,  0.00000000e+000,\n",
       "         0.00000000e+000]])"
      ]
     },
     "execution_count": 24,
     "metadata": {},
     "output_type": "execute_result"
    }
   ],
   "source": [
    "np.empty((4,4))"
   ]
  },
  {
   "cell_type": "code",
   "execution_count": 25,
   "metadata": {},
   "outputs": [],
   "source": [
    "a = np.empty(10)"
   ]
  },
  {
   "cell_type": "code",
   "execution_count": 26,
   "metadata": {},
   "outputs": [],
   "source": [
    "a.fill(123)"
   ]
  },
  {
   "cell_type": "code",
   "execution_count": 27,
   "metadata": {},
   "outputs": [
    {
     "data": {
      "text/plain": [
       "array([123., 123., 123., 123., 123., 123., 123., 123., 123., 123.])"
      ]
     },
     "execution_count": 27,
     "metadata": {},
     "output_type": "execute_result"
    }
   ],
   "source": [
    "a"
   ]
  },
  {
   "cell_type": "code",
   "execution_count": 28,
   "metadata": {},
   "outputs": [],
   "source": [
    "a.fill(np.nan)"
   ]
  },
  {
   "cell_type": "code",
   "execution_count": 29,
   "metadata": {},
   "outputs": [
    {
     "data": {
      "text/plain": [
       "array([nan, nan, nan, nan, nan, nan, nan, nan, nan, nan])"
      ]
     },
     "execution_count": 29,
     "metadata": {},
     "output_type": "execute_result"
    }
   ],
   "source": [
    "a"
   ]
  },
  {
   "cell_type": "code",
   "execution_count": 30,
   "metadata": {},
   "outputs": [],
   "source": [
    "import numpy.random as nr"
   ]
  },
  {
   "cell_type": "code",
   "execution_count": 31,
   "metadata": {},
   "outputs": [],
   "source": [
    "a = nr.rand(3, 4)"
   ]
  },
  {
   "cell_type": "code",
   "execution_count": 32,
   "metadata": {},
   "outputs": [
    {
     "data": {
      "text/plain": [
       "array([[0.89912078, 0.57445232, 0.27874671, 0.78694126],\n",
       "       [0.90918329, 0.56658281, 0.0163199 , 0.15350668],\n",
       "       [0.31730967, 0.74697046, 0.18293631, 0.43592312]])"
      ]
     },
     "execution_count": 32,
     "metadata": {},
     "output_type": "execute_result"
    }
   ],
   "source": [
    "a"
   ]
  },
  {
   "cell_type": "code",
   "execution_count": 33,
   "metadata": {},
   "outputs": [],
   "source": [
    "b = nr.rand(3, 4)"
   ]
  },
  {
   "cell_type": "code",
   "execution_count": 34,
   "metadata": {},
   "outputs": [],
   "source": [
    "b = b.reshape(4,3)"
   ]
  },
  {
   "cell_type": "code",
   "execution_count": 35,
   "metadata": {},
   "outputs": [],
   "source": [
    "c = nr.rand(3)"
   ]
  },
  {
   "cell_type": "code",
   "execution_count": 36,
   "metadata": {},
   "outputs": [
    {
     "data": {
      "text/plain": [
       "array([2.35756133, 1.76191443, 1.52905208])"
      ]
     },
     "execution_count": 36,
     "metadata": {},
     "output_type": "execute_result"
    }
   ],
   "source": [
    "a @ b @ c"
   ]
  },
  {
   "cell_type": "code",
   "execution_count": 37,
   "metadata": {},
   "outputs": [
    {
     "data": {
      "text/plain": [
       "array([[0.88800848, 0.94074744, 0.72310059],\n",
       "       [0.55726437, 0.90413566, 0.606183  ],\n",
       "       [0.48183099, 0.59925999, 0.78938413],\n",
       "       [0.955272  , 0.59785667, 0.63126537]])"
      ]
     },
     "execution_count": 37,
     "metadata": {},
     "output_type": "execute_result"
    }
   ],
   "source": [
    "np.sqrt(b)"
   ]
  },
  {
   "cell_type": "code",
   "execution_count": 38,
   "metadata": {},
   "outputs": [
    {
     "data": {
      "text/plain": [
       "array([[0.89912078, 0.57445232, 0.27874671, 0.78694126],\n",
       "       [0.90918329, 0.56658281, 0.0163199 , 0.15350668],\n",
       "       [0.31730967, 0.74697046, 0.18293631, 0.43592312]])"
      ]
     },
     "execution_count": 38,
     "metadata": {},
     "output_type": "execute_result"
    }
   ],
   "source": [
    "a"
   ]
  },
  {
   "cell_type": "code",
   "execution_count": 39,
   "metadata": {},
   "outputs": [
    {
     "data": {
      "text/plain": [
       "array([[1.89912078, 2.57445232, 3.27874671, 4.78694126],\n",
       "       [1.90918329, 2.56658281, 3.0163199 , 4.15350668],\n",
       "       [1.31730967, 2.74697046, 3.18293631, 4.43592312]])"
      ]
     },
     "execution_count": 39,
     "metadata": {},
     "output_type": "execute_result"
    }
   ],
   "source": [
    "a + np.array([1, 2, 3, 4])"
   ]
  },
  {
   "cell_type": "code",
   "execution_count": 40,
   "metadata": {},
   "outputs": [
    {
     "data": {
      "text/plain": [
       "array([[1.89912078, 1.57445232, 1.27874671, 1.78694126],\n",
       "       [2.90918329, 2.56658281, 2.0163199 , 2.15350668],\n",
       "       [3.31730967, 3.74697046, 3.18293631, 3.43592312]])"
      ]
     },
     "execution_count": 40,
     "metadata": {},
     "output_type": "execute_result"
    }
   ],
   "source": [
    "a + np.array([[1], [2], [3]])"
   ]
  },
  {
   "cell_type": "code",
   "execution_count": 41,
   "metadata": {},
   "outputs": [
    {
     "data": {
      "text/plain": [
       "5.867993333971458"
      ]
     },
     "execution_count": 41,
     "metadata": {},
     "output_type": "execute_result"
    }
   ],
   "source": [
    "np.sum(a)"
   ]
  },
  {
   "cell_type": "code",
   "execution_count": 42,
   "metadata": {},
   "outputs": [
    {
     "data": {
      "text/plain": [
       "array([2.53926108, 1.64559269, 1.68313956])"
      ]
     },
     "execution_count": 42,
     "metadata": {},
     "output_type": "execute_result"
    }
   ],
   "source": [
    "np.sum(a, axis=1)"
   ]
  },
  {
   "cell_type": "code",
   "execution_count": 43,
   "metadata": {},
   "outputs": [
    {
     "data": {
      "text/plain": [
       "0.4889994444976215"
      ]
     },
     "execution_count": 43,
     "metadata": {},
     "output_type": "execute_result"
    }
   ],
   "source": [
    "np.mean(a)"
   ]
  },
  {
   "cell_type": "code",
   "execution_count": 44,
   "metadata": {},
   "outputs": [],
   "source": [
    "a[0, 0] = np.nan"
   ]
  },
  {
   "cell_type": "code",
   "execution_count": 45,
   "metadata": {},
   "outputs": [
    {
     "data": {
      "text/plain": [
       "array([[       nan, 0.57445232, 0.27874671, 0.78694126],\n",
       "       [0.90918329, 0.56658281, 0.0163199 , 0.15350668],\n",
       "       [0.31730967, 0.74697046, 0.18293631, 0.43592312]])"
      ]
     },
     "execution_count": 45,
     "metadata": {},
     "output_type": "execute_result"
    }
   ],
   "source": [
    "a"
   ]
  },
  {
   "cell_type": "code",
   "execution_count": 46,
   "metadata": {},
   "outputs": [
    {
     "data": {
      "text/plain": [
       "0.45171568630719305"
      ]
     },
     "execution_count": 46,
     "metadata": {},
     "output_type": "execute_result"
    }
   ],
   "source": [
    "np.nanmean(a)"
   ]
  },
  {
   "cell_type": "code",
   "execution_count": 47,
   "metadata": {},
   "outputs": [
    {
     "data": {
      "text/plain": [
       "array([[0.        , 0.57445232, 0.27874671, 0.78694126],\n",
       "       [0.90918329, 0.56658281, 0.0163199 , 0.15350668],\n",
       "       [0.31730967, 0.74697046, 0.18293631, 0.43592312]])"
      ]
     },
     "execution_count": 47,
     "metadata": {},
     "output_type": "execute_result"
    }
   ],
   "source": [
    "np.nan_to_num(a)"
   ]
  },
  {
   "cell_type": "code",
   "execution_count": 48,
   "metadata": {},
   "outputs": [],
   "source": [
    "a[0,0] = 0.4"
   ]
  },
  {
   "cell_type": "code",
   "execution_count": 49,
   "metadata": {},
   "outputs": [
    {
     "data": {
      "text/plain": [
       "array([[0.4       , 0.57445232],\n",
       "       [0.90918329, 0.56658281]])"
      ]
     },
     "execution_count": 49,
     "metadata": {},
     "output_type": "execute_result"
    }
   ],
   "source": [
    "a[0:2, :2]"
   ]
  },
  {
   "cell_type": "code",
   "execution_count": 50,
   "metadata": {},
   "outputs": [
    {
     "data": {
      "text/plain": [
       "array([[0.57445232, 0.27874671],\n",
       "       [0.56658281, 0.0163199 ],\n",
       "       [0.74697046, 0.18293631]])"
      ]
     },
     "execution_count": 50,
     "metadata": {},
     "output_type": "execute_result"
    }
   ],
   "source": [
    "a[:, 1:3 ]"
   ]
  },
  {
   "cell_type": "code",
   "execution_count": 51,
   "metadata": {},
   "outputs": [
    {
     "data": {
      "text/plain": [
       "array([[0.4       , 0.27874671],\n",
       "       [0.90918329, 0.0163199 ]])"
      ]
     },
     "execution_count": 51,
     "metadata": {},
     "output_type": "execute_result"
    }
   ],
   "source": [
    "a[0:2, ::2]"
   ]
  },
  {
   "cell_type": "code",
   "execution_count": 52,
   "metadata": {},
   "outputs": [
    {
     "data": {
      "text/plain": [
       "array([[0.4       , 0.57445232, 0.27874671, 0.78694126],\n",
       "       [0.90918329, 0.56658281, 0.0163199 , 0.15350668]])"
      ]
     },
     "execution_count": 52,
     "metadata": {},
     "output_type": "execute_result"
    }
   ],
   "source": [
    "a[0:2, ...]"
   ]
  },
  {
   "cell_type": "code",
   "execution_count": 53,
   "metadata": {},
   "outputs": [
    {
     "data": {
      "text/plain": [
       "array([[ True, False,  True, False],\n",
       "       [False, False,  True,  True],\n",
       "       [ True, False,  True,  True]])"
      ]
     },
     "execution_count": 53,
     "metadata": {},
     "output_type": "execute_result"
    }
   ],
   "source": [
    "a < 0.5"
   ]
  },
  {
   "cell_type": "code",
   "execution_count": 54,
   "metadata": {},
   "outputs": [],
   "source": [
    "a[a < 0.5] = 100"
   ]
  },
  {
   "cell_type": "code",
   "execution_count": 55,
   "metadata": {},
   "outputs": [
    {
     "data": {
      "text/plain": [
       "array([[0.78855907, 0.88500574, 0.52287446],\n",
       "       [0.31054358, 0.81746129, 0.36745782],\n",
       "       [0.2321611 , 0.35911254, 0.6231273 ],\n",
       "       [0.91254459, 0.3574326 , 0.39849596]])"
      ]
     },
     "execution_count": 55,
     "metadata": {},
     "output_type": "execute_result"
    }
   ],
   "source": [
    "b"
   ]
  },
  {
   "cell_type": "code",
   "execution_count": 56,
   "metadata": {},
   "outputs": [
    {
     "data": {
      "text/plain": [
       "array([[1., 1., 1., 1.],\n",
       "       [1., 1., 1., 1.],\n",
       "       [1., 1., 1., 1.]])"
      ]
     },
     "execution_count": 56,
     "metadata": {},
     "output_type": "execute_result"
    }
   ],
   "source": [
    "np.where(a > 0.5, 1, a)"
   ]
  },
  {
   "cell_type": "code",
   "execution_count": 57,
   "metadata": {},
   "outputs": [],
   "source": [
    "x = np.linspace(-np.pi, np.pi, 100)"
   ]
  },
  {
   "cell_type": "code",
   "execution_count": 58,
   "metadata": {},
   "outputs": [],
   "source": [
    "y = np.sin(x)"
   ]
  },
  {
   "cell_type": "code",
   "execution_count": 59,
   "metadata": {},
   "outputs": [],
   "source": [
    "import matplotlib.pyplot as plt"
   ]
  },
  {
   "cell_type": "code",
   "execution_count": 60,
   "metadata": {},
   "outputs": [
    {
     "data": {
      "text/plain": [
       "[<matplotlib.lines.Line2D at 0x12103f9d0>]"
      ]
     },
     "execution_count": 60,
     "metadata": {},
     "output_type": "execute_result"
    },
    {
     "data": {
      "image/png": "[encoded data removed]",
      "text/plain": [
       "<Figure size 432x288 with 1 Axes>"
      ]
     },
     "metadata": {
      "needs_background": "light"
     },
     "output_type": "display_data"
    }
   ],
   "source": [
    "plt.plot(x, y)"
   ]
  },
  {
   "cell_type": "code",
   "execution_count": 61,
   "metadata": {},
   "outputs": [],
   "source": [
    "dy = y[1:] - y[:-1]"
   ]
  },
  {
   "cell_type": "code",
   "execution_count": 62,
   "metadata": {},
   "outputs": [],
   "source": [
    "dx = x[1:] - x[:-1]"
   ]
  },
  {
   "cell_type": "code",
   "execution_count": 63,
   "metadata": {},
   "outputs": [],
   "source": [
    "d = dy/dx"
   ]
  },
  {
   "cell_type": "code",
   "execution_count": 64,
   "metadata": {},
   "outputs": [
    {
     "data": {
      "text/plain": [
       "[<matplotlib.lines.Line2D at 0x12176ec50>]"
      ]
     },
     "execution_count": 64,
     "metadata": {},
     "output_type": "execute_result"
    },
    {
     "data": {
      "image/png": "[encoded data removed]",
      "text/plain": [
       "<Figure size 432x288 with 1 Axes>"
      ]
     },
     "metadata": {
      "needs_background": "light"
     },
     "output_type": "display_data"
    }
   ],
   "source": [
    "plt.plot(x, y)\n",
    "plt.plot(x[1:], d)"
   ]
  },
  {
   "cell_type": "code",
   "execution_count": 65,
   "metadata": {},
   "outputs": [],
   "source": [
    "import pandas as pd"
   ]
  },
  {
   "cell_type": "code",
   "execution_count": 66,
   "metadata": {},
   "outputs": [],
   "source": [
    "df = pd.read_csv('file/GlobalLandTemperaturesByMajorCity.csv')"
   ]
  },
  {
   "cell_type": "code",
   "execution_count": 67,
   "metadata": {},
   "outputs": [
    {
     "data": {
      "text/html": [
       "<div>\n",
       "<style scoped>\n",
       "    .dataframe tbody tr th:only-of-type {\n",
       "        vertical-align: middle;\n",
       "    }\n",
       "\n",
       "    .dataframe tbody tr th {\n",
       "        vertical-align: top;\n",
       "    }\n",
       "\n",
       "    .dataframe thead th {\n",
       "        text-align: right;\n",
       "    }\n",
       "</style>\n",
       "<table border=\"1\" class=\"dataframe\">\n",
       "  <thead>\n",
       "    <tr style=\"text-align: right;\">\n",
       "      <th></th>\n",
       "      <th>dt</th>\n",
       "      <th>AverageTemperature</th>\n",
       "      <th>AverageTemperatureUncertainty</th>\n",
       "      <th>City</th>\n",
       "      <th>Country</th>\n",
       "      <th>Latitude</th>\n",
       "      <th>Longitude</th>\n",
       "    </tr>\n",
       "  </thead>\n",
       "  <tbody>\n",
       "    <tr>\n",
       "      <td>0</td>\n",
       "      <td>1849-01-01</td>\n",
       "      <td>26.704</td>\n",
       "      <td>1.435</td>\n",
       "      <td>Abidjan</td>\n",
       "      <td>Côte D'Ivoire</td>\n",
       "      <td>5.63N</td>\n",
       "      <td>3.23W</td>\n",
       "    </tr>\n",
       "    <tr>\n",
       "      <td>1</td>\n",
       "      <td>1849-02-01</td>\n",
       "      <td>27.434</td>\n",
       "      <td>1.362</td>\n",
       "      <td>Abidjan</td>\n",
       "      <td>Côte D'Ivoire</td>\n",
       "      <td>5.63N</td>\n",
       "      <td>3.23W</td>\n",
       "    </tr>\n",
       "    <tr>\n",
       "      <td>2</td>\n",
       "      <td>1849-03-01</td>\n",
       "      <td>28.101</td>\n",
       "      <td>1.612</td>\n",
       "      <td>Abidjan</td>\n",
       "      <td>Côte D'Ivoire</td>\n",
       "      <td>5.63N</td>\n",
       "      <td>3.23W</td>\n",
       "    </tr>\n",
       "    <tr>\n",
       "      <td>3</td>\n",
       "      <td>1849-04-01</td>\n",
       "      <td>26.140</td>\n",
       "      <td>1.387</td>\n",
       "      <td>Abidjan</td>\n",
       "      <td>Côte D'Ivoire</td>\n",
       "      <td>5.63N</td>\n",
       "      <td>3.23W</td>\n",
       "    </tr>\n",
       "    <tr>\n",
       "      <td>4</td>\n",
       "      <td>1849-05-01</td>\n",
       "      <td>25.427</td>\n",
       "      <td>1.200</td>\n",
       "      <td>Abidjan</td>\n",
       "      <td>Côte D'Ivoire</td>\n",
       "      <td>5.63N</td>\n",
       "      <td>3.23W</td>\n",
       "    </tr>\n",
       "    <tr>\n",
       "      <td>...</td>\n",
       "      <td>...</td>\n",
       "      <td>...</td>\n",
       "      <td>...</td>\n",
       "      <td>...</td>\n",
       "      <td>...</td>\n",
       "      <td>...</td>\n",
       "      <td>...</td>\n",
       "    </tr>\n",
       "    <tr>\n",
       "      <td>239172</td>\n",
       "      <td>2013-05-01</td>\n",
       "      <td>18.979</td>\n",
       "      <td>0.807</td>\n",
       "      <td>Xian</td>\n",
       "      <td>China</td>\n",
       "      <td>34.56N</td>\n",
       "      <td>108.97E</td>\n",
       "    </tr>\n",
       "    <tr>\n",
       "      <td>239173</td>\n",
       "      <td>2013-06-01</td>\n",
       "      <td>23.522</td>\n",
       "      <td>0.647</td>\n",
       "      <td>Xian</td>\n",
       "      <td>China</td>\n",
       "      <td>34.56N</td>\n",
       "      <td>108.97E</td>\n",
       "    </tr>\n",
       "    <tr>\n",
       "      <td>239174</td>\n",
       "      <td>2013-07-01</td>\n",
       "      <td>25.251</td>\n",
       "      <td>1.042</td>\n",
       "      <td>Xian</td>\n",
       "      <td>China</td>\n",
       "      <td>34.56N</td>\n",
       "      <td>108.97E</td>\n",
       "    </tr>\n",
       "    <tr>\n",
       "      <td>239175</td>\n",
       "      <td>2013-08-01</td>\n",
       "      <td>24.528</td>\n",
       "      <td>0.840</td>\n",
       "      <td>Xian</td>\n",
       "      <td>China</td>\n",
       "      <td>34.56N</td>\n",
       "      <td>108.97E</td>\n",
       "    </tr>\n",
       "    <tr>\n",
       "      <td>239176</td>\n",
       "      <td>2013-09-01</td>\n",
       "      <td>NaN</td>\n",
       "      <td>NaN</td>\n",
       "      <td>Xian</td>\n",
       "      <td>China</td>\n",
       "      <td>34.56N</td>\n",
       "      <td>108.97E</td>\n",
       "    </tr>\n",
       "  </tbody>\n",
       "</table>\n",
       "<p>239177 rows × 7 columns</p>\n",
       "</div>"
      ],
      "text/plain": [
       "                dt  AverageTemperature  AverageTemperatureUncertainty  \\\n",
       "0       1849-01-01              26.704                          1.435   \n",
       "1       1849-02-01              27.434                          1.362   \n",
       "2       1849-03-01              28.101                          1.612   \n",
       "3       1849-04-01              26.140                          1.387   \n",
       "4       1849-05-01              25.427                          1.200   \n",
       "...            ...                 ...                            ...   \n",
       "239172  2013-05-01              18.979                          0.807   \n",
       "239173  2013-06-01              23.522                          0.647   \n",
       "239174  2013-07-01              25.251                          1.042   \n",
       "239175  2013-08-01              24.528                          0.840   \n",
       "239176  2013-09-01                 NaN                            NaN   \n",
       "\n",
       "           City        Country Latitude Longitude  \n",
       "0       Abidjan  Côte D'Ivoire    5.63N     3.23W  \n",
       "1       Abidjan  Côte D'Ivoire    5.63N     3.23W  \n",
       "2       Abidjan  Côte D'Ivoire    5.63N     3.23W  \n",
       "3       Abidjan  Côte D'Ivoire    5.63N     3.23W  \n",
       "4       Abidjan  Côte D'Ivoire    5.63N     3.23W  \n",
       "...         ...            ...      ...       ...  \n",
       "239172     Xian          China   34.56N   108.97E  \n",
       "239173     Xian          China   34.56N   108.97E  \n",
       "239174     Xian          China   34.56N   108.97E  \n",
       "239175     Xian          China   34.56N   108.97E  \n",
       "239176     Xian          China   34.56N   108.97E  \n",
       "\n",
       "[239177 rows x 7 columns]"
      ]
     },
     "execution_count": 67,
     "metadata": {},
     "output_type": "execute_result"
    }
   ],
   "source": [
    "df"
   ]
  },
  {
   "cell_type": "code",
   "execution_count": 68,
   "metadata": {},
   "outputs": [
    {
     "name": "stdout",
     "output_type": "stream",
     "text": [
      "<class 'pandas.core.frame.DataFrame'>\n",
      "RangeIndex: 239177 entries, 0 to 239176\n",
      "Data columns (total 7 columns):\n",
      "dt                               239177 non-null object\n",
      "AverageTemperature               228175 non-null float64\n",
      "AverageTemperatureUncertainty    228175 non-null float64\n",
      "City                             239177 non-null object\n",
      "Country                          239177 non-null object\n",
      "Latitude                         239177 non-null object\n",
      "Longitude                        239177 non-null object\n",
      "dtypes: float64(2), object(5)\n",
      "memory usage: 12.8+ MB\n"
     ]
    }
   ],
   "source": [
    "df.info()"
   ]
  },
  {
   "cell_type": "code",
   "execution_count": 69,
   "metadata": {},
   "outputs": [
    {
     "data": {
      "text/html": [
       "<div>\n",
       "<style scoped>\n",
       "    .dataframe tbody tr th:only-of-type {\n",
       "        vertical-align: middle;\n",
       "    }\n",
       "\n",
       "    .dataframe tbody tr th {\n",
       "        vertical-align: top;\n",
       "    }\n",
       "\n",
       "    .dataframe thead th {\n",
       "        text-align: right;\n",
       "    }\n",
       "</style>\n",
       "<table border=\"1\" class=\"dataframe\">\n",
       "  <thead>\n",
       "    <tr style=\"text-align: right;\">\n",
       "      <th></th>\n",
       "      <th>AverageTemperature</th>\n",
       "      <th>AverageTemperatureUncertainty</th>\n",
       "    </tr>\n",
       "  </thead>\n",
       "  <tbody>\n",
       "    <tr>\n",
       "      <td>count</td>\n",
       "      <td>228175.000000</td>\n",
       "      <td>228175.000000</td>\n",
       "    </tr>\n",
       "    <tr>\n",
       "      <td>mean</td>\n",
       "      <td>18.125969</td>\n",
       "      <td>0.969343</td>\n",
       "    </tr>\n",
       "    <tr>\n",
       "      <td>std</td>\n",
       "      <td>10.024800</td>\n",
       "      <td>0.979644</td>\n",
       "    </tr>\n",
       "    <tr>\n",
       "      <td>min</td>\n",
       "      <td>-26.772000</td>\n",
       "      <td>0.040000</td>\n",
       "    </tr>\n",
       "    <tr>\n",
       "      <td>25%</td>\n",
       "      <td>12.710000</td>\n",
       "      <td>0.340000</td>\n",
       "    </tr>\n",
       "    <tr>\n",
       "      <td>50%</td>\n",
       "      <td>20.428000</td>\n",
       "      <td>0.592000</td>\n",
       "    </tr>\n",
       "    <tr>\n",
       "      <td>75%</td>\n",
       "      <td>25.918000</td>\n",
       "      <td>1.320000</td>\n",
       "    </tr>\n",
       "    <tr>\n",
       "      <td>max</td>\n",
       "      <td>38.283000</td>\n",
       "      <td>14.037000</td>\n",
       "    </tr>\n",
       "  </tbody>\n",
       "</table>\n",
       "</div>"
      ],
      "text/plain": [
       "       AverageTemperature  AverageTemperatureUncertainty\n",
       "count       228175.000000                  228175.000000\n",
       "mean            18.125969                       0.969343\n",
       "std             10.024800                       0.979644\n",
       "min            -26.772000                       0.040000\n",
       "25%             12.710000                       0.340000\n",
       "50%             20.428000                       0.592000\n",
       "75%             25.918000                       1.320000\n",
       "max             38.283000                      14.037000"
      ]
     },
     "execution_count": 69,
     "metadata": {},
     "output_type": "execute_result"
    }
   ],
   "source": [
    "df.describe()"
   ]
  },
  {
   "cell_type": "code",
   "execution_count": 70,
   "metadata": {},
   "outputs": [
    {
     "data": {
      "text/html": [
       "<div>\n",
       "<style scoped>\n",
       "    .dataframe tbody tr th:only-of-type {\n",
       "        vertical-align: middle;\n",
       "    }\n",
       "\n",
       "    .dataframe tbody tr th {\n",
       "        vertical-align: top;\n",
       "    }\n",
       "\n",
       "    .dataframe thead th {\n",
       "        text-align: right;\n",
       "    }\n",
       "</style>\n",
       "<table border=\"1\" class=\"dataframe\">\n",
       "  <thead>\n",
       "    <tr style=\"text-align: right;\">\n",
       "      <th></th>\n",
       "      <th>dt</th>\n",
       "      <th>AverageTemperature</th>\n",
       "      <th>AverageTemperatureUncertainty</th>\n",
       "      <th>City</th>\n",
       "      <th>Country</th>\n",
       "      <th>Latitude</th>\n",
       "      <th>Longitude</th>\n",
       "    </tr>\n",
       "  </thead>\n",
       "  <tbody>\n",
       "    <tr>\n",
       "      <td>0</td>\n",
       "      <td>1849-01-01</td>\n",
       "      <td>26.704</td>\n",
       "      <td>1.435</td>\n",
       "      <td>Abidjan</td>\n",
       "      <td>Côte D'Ivoire</td>\n",
       "      <td>5.63N</td>\n",
       "      <td>3.23W</td>\n",
       "    </tr>\n",
       "    <tr>\n",
       "      <td>1</td>\n",
       "      <td>1849-02-01</td>\n",
       "      <td>27.434</td>\n",
       "      <td>1.362</td>\n",
       "      <td>Abidjan</td>\n",
       "      <td>Côte D'Ivoire</td>\n",
       "      <td>5.63N</td>\n",
       "      <td>3.23W</td>\n",
       "    </tr>\n",
       "    <tr>\n",
       "      <td>2</td>\n",
       "      <td>1849-03-01</td>\n",
       "      <td>28.101</td>\n",
       "      <td>1.612</td>\n",
       "      <td>Abidjan</td>\n",
       "      <td>Côte D'Ivoire</td>\n",
       "      <td>5.63N</td>\n",
       "      <td>3.23W</td>\n",
       "    </tr>\n",
       "    <tr>\n",
       "      <td>3</td>\n",
       "      <td>1849-04-01</td>\n",
       "      <td>26.140</td>\n",
       "      <td>1.387</td>\n",
       "      <td>Abidjan</td>\n",
       "      <td>Côte D'Ivoire</td>\n",
       "      <td>5.63N</td>\n",
       "      <td>3.23W</td>\n",
       "    </tr>\n",
       "    <tr>\n",
       "      <td>4</td>\n",
       "      <td>1849-05-01</td>\n",
       "      <td>25.427</td>\n",
       "      <td>1.200</td>\n",
       "      <td>Abidjan</td>\n",
       "      <td>Côte D'Ivoire</td>\n",
       "      <td>5.63N</td>\n",
       "      <td>3.23W</td>\n",
       "    </tr>\n",
       "    <tr>\n",
       "      <td>5</td>\n",
       "      <td>1849-06-01</td>\n",
       "      <td>24.844</td>\n",
       "      <td>1.402</td>\n",
       "      <td>Abidjan</td>\n",
       "      <td>Côte D'Ivoire</td>\n",
       "      <td>5.63N</td>\n",
       "      <td>3.23W</td>\n",
       "    </tr>\n",
       "    <tr>\n",
       "      <td>6</td>\n",
       "      <td>1849-07-01</td>\n",
       "      <td>24.058</td>\n",
       "      <td>1.254</td>\n",
       "      <td>Abidjan</td>\n",
       "      <td>Côte D'Ivoire</td>\n",
       "      <td>5.63N</td>\n",
       "      <td>3.23W</td>\n",
       "    </tr>\n",
       "    <tr>\n",
       "      <td>7</td>\n",
       "      <td>1849-08-01</td>\n",
       "      <td>23.576</td>\n",
       "      <td>1.265</td>\n",
       "      <td>Abidjan</td>\n",
       "      <td>Côte D'Ivoire</td>\n",
       "      <td>5.63N</td>\n",
       "      <td>3.23W</td>\n",
       "    </tr>\n",
       "    <tr>\n",
       "      <td>8</td>\n",
       "      <td>1849-09-01</td>\n",
       "      <td>23.662</td>\n",
       "      <td>1.226</td>\n",
       "      <td>Abidjan</td>\n",
       "      <td>Côte D'Ivoire</td>\n",
       "      <td>5.63N</td>\n",
       "      <td>3.23W</td>\n",
       "    </tr>\n",
       "    <tr>\n",
       "      <td>9</td>\n",
       "      <td>1849-10-01</td>\n",
       "      <td>25.263</td>\n",
       "      <td>1.175</td>\n",
       "      <td>Abidjan</td>\n",
       "      <td>Côte D'Ivoire</td>\n",
       "      <td>5.63N</td>\n",
       "      <td>3.23W</td>\n",
       "    </tr>\n",
       "  </tbody>\n",
       "</table>\n",
       "</div>"
      ],
      "text/plain": [
       "           dt  AverageTemperature  AverageTemperatureUncertainty     City  \\\n",
       "0  1849-01-01              26.704                          1.435  Abidjan   \n",
       "1  1849-02-01              27.434                          1.362  Abidjan   \n",
       "2  1849-03-01              28.101                          1.612  Abidjan   \n",
       "3  1849-04-01              26.140                          1.387  Abidjan   \n",
       "4  1849-05-01              25.427                          1.200  Abidjan   \n",
       "5  1849-06-01              24.844                          1.402  Abidjan   \n",
       "6  1849-07-01              24.058                          1.254  Abidjan   \n",
       "7  1849-08-01              23.576                          1.265  Abidjan   \n",
       "8  1849-09-01              23.662                          1.226  Abidjan   \n",
       "9  1849-10-01              25.263                          1.175  Abidjan   \n",
       "\n",
       "         Country Latitude Longitude  \n",
       "0  Côte D'Ivoire    5.63N     3.23W  \n",
       "1  Côte D'Ivoire    5.63N     3.23W  \n",
       "2  Côte D'Ivoire    5.63N     3.23W  \n",
       "3  Côte D'Ivoire    5.63N     3.23W  \n",
       "4  Côte D'Ivoire    5.63N     3.23W  \n",
       "5  Côte D'Ivoire    5.63N     3.23W  \n",
       "6  Côte D'Ivoire    5.63N     3.23W  \n",
       "7  Côte D'Ivoire    5.63N     3.23W  \n",
       "8  Côte D'Ivoire    5.63N     3.23W  \n",
       "9  Côte D'Ivoire    5.63N     3.23W  "
      ]
     },
     "execution_count": 70,
     "metadata": {},
     "output_type": "execute_result"
    }
   ],
   "source": [
    "df.head(10)"
   ]
  },
  {
   "cell_type": "code",
   "execution_count": 71,
   "metadata": {},
   "outputs": [
    {
     "data": {
      "text/plain": [
       "<matplotlib.axes._subplots.AxesSubplot at 0x11b4bee90>"
      ]
     },
     "execution_count": 71,
     "metadata": {},
     "output_type": "execute_result"
    },
    {
     "data": {
      "image/png": "[encoded data removed]",
      "text/plain": [
       "<Figure size 432x288 with 1 Axes>"
      ]
     },
     "metadata": {
      "needs_background": "light"
     },
     "output_type": "display_data"
    }
   ],
   "source": [
    "df.plot()"
   ]
  },
  {
   "cell_type": "code",
   "execution_count": 72,
   "metadata": {},
   "outputs": [
    {
     "data": {
      "text/html": [
       "<div>\n",
       "<style scoped>\n",
       "    .dataframe tbody tr th:only-of-type {\n",
       "        vertical-align: middle;\n",
       "    }\n",
       "\n",
       "    .dataframe tbody tr th {\n",
       "        vertical-align: top;\n",
       "    }\n",
       "\n",
       "    .dataframe thead th {\n",
       "        text-align: right;\n",
       "    }\n",
       "</style>\n",
       "<table border=\"1\" class=\"dataframe\">\n",
       "  <thead>\n",
       "    <tr style=\"text-align: right;\">\n",
       "      <th></th>\n",
       "      <th>dt</th>\n",
       "      <th>AverageTemperature</th>\n",
       "      <th>AverageTemperatureUncertainty</th>\n",
       "      <th>Country</th>\n",
       "      <th>Latitude</th>\n",
       "      <th>Longitude</th>\n",
       "    </tr>\n",
       "    <tr>\n",
       "      <th>City</th>\n",
       "      <th></th>\n",
       "      <th></th>\n",
       "      <th></th>\n",
       "      <th></th>\n",
       "      <th></th>\n",
       "      <th></th>\n",
       "    </tr>\n",
       "  </thead>\n",
       "  <tbody>\n",
       "    <tr>\n",
       "      <td>Abidjan</td>\n",
       "      <td>1977</td>\n",
       "      <td>1777</td>\n",
       "      <td>1777</td>\n",
       "      <td>1977</td>\n",
       "      <td>1977</td>\n",
       "      <td>1977</td>\n",
       "    </tr>\n",
       "    <tr>\n",
       "      <td>Addis Abeba</td>\n",
       "      <td>1965</td>\n",
       "      <td>1679</td>\n",
       "      <td>1679</td>\n",
       "      <td>1965</td>\n",
       "      <td>1965</td>\n",
       "      <td>1965</td>\n",
       "    </tr>\n",
       "    <tr>\n",
       "      <td>Ahmadabad</td>\n",
       "      <td>2613</td>\n",
       "      <td>2448</td>\n",
       "      <td>2448</td>\n",
       "      <td>2613</td>\n",
       "      <td>2613</td>\n",
       "      <td>2613</td>\n",
       "    </tr>\n",
       "    <tr>\n",
       "      <td>Aleppo</td>\n",
       "      <td>2669</td>\n",
       "      <td>2479</td>\n",
       "      <td>2479</td>\n",
       "      <td>2669</td>\n",
       "      <td>2669</td>\n",
       "      <td>2669</td>\n",
       "    </tr>\n",
       "    <tr>\n",
       "      <td>Alexandria</td>\n",
       "      <td>2669</td>\n",
       "      <td>2666</td>\n",
       "      <td>2666</td>\n",
       "      <td>2669</td>\n",
       "      <td>2669</td>\n",
       "      <td>2669</td>\n",
       "    </tr>\n",
       "    <tr>\n",
       "      <td>...</td>\n",
       "      <td>...</td>\n",
       "      <td>...</td>\n",
       "      <td>...</td>\n",
       "      <td>...</td>\n",
       "      <td>...</td>\n",
       "      <td>...</td>\n",
       "    </tr>\n",
       "    <tr>\n",
       "      <td>Tokyo</td>\n",
       "      <td>2025</td>\n",
       "      <td>2020</td>\n",
       "      <td>2020</td>\n",
       "      <td>2025</td>\n",
       "      <td>2025</td>\n",
       "      <td>2025</td>\n",
       "    </tr>\n",
       "    <tr>\n",
       "      <td>Toronto</td>\n",
       "      <td>3239</td>\n",
       "      <td>3141</td>\n",
       "      <td>3141</td>\n",
       "      <td>3239</td>\n",
       "      <td>3239</td>\n",
       "      <td>3239</td>\n",
       "    </tr>\n",
       "    <tr>\n",
       "      <td>Umm Durman</td>\n",
       "      <td>1857</td>\n",
       "      <td>1768</td>\n",
       "      <td>1768</td>\n",
       "      <td>1857</td>\n",
       "      <td>1857</td>\n",
       "      <td>1857</td>\n",
       "    </tr>\n",
       "    <tr>\n",
       "      <td>Wuhan</td>\n",
       "      <td>2073</td>\n",
       "      <td>2072</td>\n",
       "      <td>2072</td>\n",
       "      <td>2073</td>\n",
       "      <td>2073</td>\n",
       "      <td>2073</td>\n",
       "    </tr>\n",
       "    <tr>\n",
       "      <td>Xian</td>\n",
       "      <td>2318</td>\n",
       "      <td>2126</td>\n",
       "      <td>2126</td>\n",
       "      <td>2318</td>\n",
       "      <td>2318</td>\n",
       "      <td>2318</td>\n",
       "    </tr>\n",
       "  </tbody>\n",
       "</table>\n",
       "<p>100 rows × 6 columns</p>\n",
       "</div>"
      ],
      "text/plain": [
       "               dt  AverageTemperature  AverageTemperatureUncertainty  Country  \\\n",
       "City                                                                            \n",
       "Abidjan      1977                1777                           1777     1977   \n",
       "Addis Abeba  1965                1679                           1679     1965   \n",
       "Ahmadabad    2613                2448                           2448     2613   \n",
       "Aleppo       2669                2479                           2479     2669   \n",
       "Alexandria   2669                2666                           2666     2669   \n",
       "...           ...                 ...                            ...      ...   \n",
       "Tokyo        2025                2020                           2020     2025   \n",
       "Toronto      3239                3141                           3141     3239   \n",
       "Umm Durman   1857                1768                           1768     1857   \n",
       "Wuhan        2073                2072                           2072     2073   \n",
       "Xian         2318                2126                           2126     2318   \n",
       "\n",
       "             Latitude  Longitude  \n",
       "City                              \n",
       "Abidjan          1977       1977  \n",
       "Addis Abeba      1965       1965  \n",
       "Ahmadabad        2613       2613  \n",
       "Aleppo           2669       2669  \n",
       "Alexandria       2669       2669  \n",
       "...               ...        ...  \n",
       "Tokyo            2025       2025  \n",
       "Toronto          3239       3239  \n",
       "Umm Durman       1857       1857  \n",
       "Wuhan            2073       2073  \n",
       "Xian             2318       2318  \n",
       "\n",
       "[100 rows x 6 columns]"
      ]
     },
     "execution_count": 72,
     "metadata": {},
     "output_type": "execute_result"
    }
   ],
   "source": [
    "df.groupby(\"City\").count()"
   ]
  },
  {
   "cell_type": "code",
   "execution_count": 73,
   "metadata": {},
   "outputs": [
    {
     "data": {
      "text/plain": [
       "City\n",
       "Abidjan        22.363\n",
       "Addis Abeba    14.528\n",
       "Ahmadabad      16.792\n",
       "Aleppo          0.670\n",
       "Alexandria     10.227\n",
       "                ...  \n",
       "Tokyo          -1.580\n",
       "Toronto       -15.502\n",
       "Umm Durman     18.508\n",
       "Wuhan          -0.305\n",
       "Xian           -6.418\n",
       "Name: AverageTemperature, Length: 100, dtype: float64"
      ]
     },
     "execution_count": 73,
     "metadata": {},
     "output_type": "execute_result"
    }
   ],
   "source": [
    "df.groupby('City')['AverageTemperature'].min()"
   ]
  },
  {
   "cell_type": "code",
   "execution_count": 74,
   "metadata": {},
   "outputs": [
    {
     "data": {
      "text/html": [
       "<div>\n",
       "<style scoped>\n",
       "    .dataframe tbody tr th:only-of-type {\n",
       "        vertical-align: middle;\n",
       "    }\n",
       "\n",
       "    .dataframe tbody tr th {\n",
       "        vertical-align: top;\n",
       "    }\n",
       "\n",
       "    .dataframe thead th {\n",
       "        text-align: right;\n",
       "    }\n",
       "</style>\n",
       "<table border=\"1\" class=\"dataframe\">\n",
       "  <thead>\n",
       "    <tr style=\"text-align: right;\">\n",
       "      <th></th>\n",
       "      <th>dt</th>\n",
       "      <th>AverageTemperature</th>\n",
       "      <th>AverageTemperatureUncertainty</th>\n",
       "      <th>City</th>\n",
       "      <th>Country</th>\n",
       "      <th>Latitude</th>\n",
       "      <th>Longitude</th>\n",
       "    </tr>\n",
       "  </thead>\n",
       "  <tbody>\n",
       "    <tr>\n",
       "      <td>114923</td>\n",
       "      <td>1743-11-01</td>\n",
       "      <td>0.895</td>\n",
       "      <td>2.092</td>\n",
       "      <td>Kiev</td>\n",
       "      <td>Ukraine</td>\n",
       "      <td>50.63N</td>\n",
       "      <td>31.69E</td>\n",
       "    </tr>\n",
       "    <tr>\n",
       "      <td>114924</td>\n",
       "      <td>1743-12-01</td>\n",
       "      <td>NaN</td>\n",
       "      <td>NaN</td>\n",
       "      <td>Kiev</td>\n",
       "      <td>Ukraine</td>\n",
       "      <td>50.63N</td>\n",
       "      <td>31.69E</td>\n",
       "    </tr>\n",
       "    <tr>\n",
       "      <td>114925</td>\n",
       "      <td>1744-01-01</td>\n",
       "      <td>NaN</td>\n",
       "      <td>NaN</td>\n",
       "      <td>Kiev</td>\n",
       "      <td>Ukraine</td>\n",
       "      <td>50.63N</td>\n",
       "      <td>31.69E</td>\n",
       "    </tr>\n",
       "    <tr>\n",
       "      <td>114926</td>\n",
       "      <td>1744-02-01</td>\n",
       "      <td>NaN</td>\n",
       "      <td>NaN</td>\n",
       "      <td>Kiev</td>\n",
       "      <td>Ukraine</td>\n",
       "      <td>50.63N</td>\n",
       "      <td>31.69E</td>\n",
       "    </tr>\n",
       "    <tr>\n",
       "      <td>114927</td>\n",
       "      <td>1744-03-01</td>\n",
       "      <td>NaN</td>\n",
       "      <td>NaN</td>\n",
       "      <td>Kiev</td>\n",
       "      <td>Ukraine</td>\n",
       "      <td>50.63N</td>\n",
       "      <td>31.69E</td>\n",
       "    </tr>\n",
       "    <tr>\n",
       "      <td>...</td>\n",
       "      <td>...</td>\n",
       "      <td>...</td>\n",
       "      <td>...</td>\n",
       "      <td>...</td>\n",
       "      <td>...</td>\n",
       "      <td>...</td>\n",
       "      <td>...</td>\n",
       "    </tr>\n",
       "    <tr>\n",
       "      <td>118157</td>\n",
       "      <td>2013-05-01</td>\n",
       "      <td>19.000</td>\n",
       "      <td>0.300</td>\n",
       "      <td>Kiev</td>\n",
       "      <td>Ukraine</td>\n",
       "      <td>50.63N</td>\n",
       "      <td>31.69E</td>\n",
       "    </tr>\n",
       "    <tr>\n",
       "      <td>118158</td>\n",
       "      <td>2013-06-01</td>\n",
       "      <td>21.222</td>\n",
       "      <td>0.346</td>\n",
       "      <td>Kiev</td>\n",
       "      <td>Ukraine</td>\n",
       "      <td>50.63N</td>\n",
       "      <td>31.69E</td>\n",
       "    </tr>\n",
       "    <tr>\n",
       "      <td>118159</td>\n",
       "      <td>2013-07-01</td>\n",
       "      <td>20.483</td>\n",
       "      <td>0.244</td>\n",
       "      <td>Kiev</td>\n",
       "      <td>Ukraine</td>\n",
       "      <td>50.63N</td>\n",
       "      <td>31.69E</td>\n",
       "    </tr>\n",
       "    <tr>\n",
       "      <td>118160</td>\n",
       "      <td>2013-08-01</td>\n",
       "      <td>19.944</td>\n",
       "      <td>0.327</td>\n",
       "      <td>Kiev</td>\n",
       "      <td>Ukraine</td>\n",
       "      <td>50.63N</td>\n",
       "      <td>31.69E</td>\n",
       "    </tr>\n",
       "    <tr>\n",
       "      <td>118161</td>\n",
       "      <td>2013-09-01</td>\n",
       "      <td>NaN</td>\n",
       "      <td>NaN</td>\n",
       "      <td>Kiev</td>\n",
       "      <td>Ukraine</td>\n",
       "      <td>50.63N</td>\n",
       "      <td>31.69E</td>\n",
       "    </tr>\n",
       "  </tbody>\n",
       "</table>\n",
       "<p>3239 rows × 7 columns</p>\n",
       "</div>"
      ],
      "text/plain": [
       "                dt  AverageTemperature  AverageTemperatureUncertainty  City  \\\n",
       "114923  1743-11-01               0.895                          2.092  Kiev   \n",
       "114924  1743-12-01                 NaN                            NaN  Kiev   \n",
       "114925  1744-01-01                 NaN                            NaN  Kiev   \n",
       "114926  1744-02-01                 NaN                            NaN  Kiev   \n",
       "114927  1744-03-01                 NaN                            NaN  Kiev   \n",
       "...            ...                 ...                            ...   ...   \n",
       "118157  2013-05-01              19.000                          0.300  Kiev   \n",
       "118158  2013-06-01              21.222                          0.346  Kiev   \n",
       "118159  2013-07-01              20.483                          0.244  Kiev   \n",
       "118160  2013-08-01              19.944                          0.327  Kiev   \n",
       "118161  2013-09-01                 NaN                            NaN  Kiev   \n",
       "\n",
       "        Country Latitude Longitude  \n",
       "114923  Ukraine   50.63N    31.69E  \n",
       "114924  Ukraine   50.63N    31.69E  \n",
       "114925  Ukraine   50.63N    31.69E  \n",
       "114926  Ukraine   50.63N    31.69E  \n",
       "114927  Ukraine   50.63N    31.69E  \n",
       "...         ...      ...       ...  \n",
       "118157  Ukraine   50.63N    31.69E  \n",
       "118158  Ukraine   50.63N    31.69E  \n",
       "118159  Ukraine   50.63N    31.69E  \n",
       "118160  Ukraine   50.63N    31.69E  \n",
       "118161  Ukraine   50.63N    31.69E  \n",
       "\n",
       "[3239 rows x 7 columns]"
      ]
     },
     "execution_count": 74,
     "metadata": {},
     "output_type": "execute_result"
    }
   ],
   "source": [
    "df[df['City'] == \"Kiev\"]"
   ]
  },
  {
   "cell_type": "code",
   "execution_count": 75,
   "metadata": {},
   "outputs": [],
   "source": [
    "dfk = df[df['City'] == \"Kiev\"]"
   ]
  },
  {
   "cell_type": "code",
   "execution_count": 76,
   "metadata": {},
   "outputs": [
    {
     "data": {
      "text/plain": [
       "<matplotlib.axes._subplots.AxesSubplot at 0x11166e510>"
      ]
     },
     "execution_count": 76,
     "metadata": {},
     "output_type": "execute_result"
    },
    {
     "data": {
      "image/png": "[encoded data removed]",
      "text/plain": [
       "<Figure size 432x288 with 1 Axes>"
      ]
     },
     "metadata": {
      "needs_background": "light"
     },
     "output_type": "display_data"
    }
   ],
   "source": [
    "dfk.plot()"
   ]
  },
  {
   "cell_type": "code",
   "execution_count": 77,
   "metadata": {},
   "outputs": [
    {
     "data": {
      "text/html": [
       "<div>\n",
       "<style scoped>\n",
       "    .dataframe tbody tr th:only-of-type {\n",
       "        vertical-align: middle;\n",
       "    }\n",
       "\n",
       "    .dataframe tbody tr th {\n",
       "        vertical-align: top;\n",
       "    }\n",
       "\n",
       "    .dataframe thead th {\n",
       "        text-align: right;\n",
       "    }\n",
       "</style>\n",
       "<table border=\"1\" class=\"dataframe\">\n",
       "  <thead>\n",
       "    <tr style=\"text-align: right;\">\n",
       "      <th></th>\n",
       "      <th>dt</th>\n",
       "      <th>AverageTemperature</th>\n",
       "      <th>AverageTemperatureUncertainty</th>\n",
       "      <th>City</th>\n",
       "      <th>Country</th>\n",
       "      <th>Latitude</th>\n",
       "      <th>Longitude</th>\n",
       "    </tr>\n",
       "  </thead>\n",
       "  <tbody>\n",
       "    <tr>\n",
       "      <td>114923</td>\n",
       "      <td>1743-11-01</td>\n",
       "      <td>0.895</td>\n",
       "      <td>2.092</td>\n",
       "      <td>Kiev</td>\n",
       "      <td>Ukraine</td>\n",
       "      <td>50.63N</td>\n",
       "      <td>31.69E</td>\n",
       "    </tr>\n",
       "    <tr>\n",
       "      <td>114928</td>\n",
       "      <td>1744-04-01</td>\n",
       "      <td>9.820</td>\n",
       "      <td>2.498</td>\n",
       "      <td>Kiev</td>\n",
       "      <td>Ukraine</td>\n",
       "      <td>50.63N</td>\n",
       "      <td>31.69E</td>\n",
       "    </tr>\n",
       "    <tr>\n",
       "      <td>114929</td>\n",
       "      <td>1744-05-01</td>\n",
       "      <td>13.142</td>\n",
       "      <td>1.845</td>\n",
       "      <td>Kiev</td>\n",
       "      <td>Ukraine</td>\n",
       "      <td>50.63N</td>\n",
       "      <td>31.69E</td>\n",
       "    </tr>\n",
       "    <tr>\n",
       "      <td>114930</td>\n",
       "      <td>1744-06-01</td>\n",
       "      <td>17.393</td>\n",
       "      <td>1.703</td>\n",
       "      <td>Kiev</td>\n",
       "      <td>Ukraine</td>\n",
       "      <td>50.63N</td>\n",
       "      <td>31.69E</td>\n",
       "    </tr>\n",
       "    <tr>\n",
       "      <td>114931</td>\n",
       "      <td>1744-07-01</td>\n",
       "      <td>19.389</td>\n",
       "      <td>1.592</td>\n",
       "      <td>Kiev</td>\n",
       "      <td>Ukraine</td>\n",
       "      <td>50.63N</td>\n",
       "      <td>31.69E</td>\n",
       "    </tr>\n",
       "    <tr>\n",
       "      <td>...</td>\n",
       "      <td>...</td>\n",
       "      <td>...</td>\n",
       "      <td>...</td>\n",
       "      <td>...</td>\n",
       "      <td>...</td>\n",
       "      <td>...</td>\n",
       "      <td>...</td>\n",
       "    </tr>\n",
       "    <tr>\n",
       "      <td>118156</td>\n",
       "      <td>2013-04-01</td>\n",
       "      <td>9.827</td>\n",
       "      <td>0.341</td>\n",
       "      <td>Kiev</td>\n",
       "      <td>Ukraine</td>\n",
       "      <td>50.63N</td>\n",
       "      <td>31.69E</td>\n",
       "    </tr>\n",
       "    <tr>\n",
       "      <td>118157</td>\n",
       "      <td>2013-05-01</td>\n",
       "      <td>19.000</td>\n",
       "      <td>0.300</td>\n",
       "      <td>Kiev</td>\n",
       "      <td>Ukraine</td>\n",
       "      <td>50.63N</td>\n",
       "      <td>31.69E</td>\n",
       "    </tr>\n",
       "    <tr>\n",
       "      <td>118158</td>\n",
       "      <td>2013-06-01</td>\n",
       "      <td>21.222</td>\n",
       "      <td>0.346</td>\n",
       "      <td>Kiev</td>\n",
       "      <td>Ukraine</td>\n",
       "      <td>50.63N</td>\n",
       "      <td>31.69E</td>\n",
       "    </tr>\n",
       "    <tr>\n",
       "      <td>118159</td>\n",
       "      <td>2013-07-01</td>\n",
       "      <td>20.483</td>\n",
       "      <td>0.244</td>\n",
       "      <td>Kiev</td>\n",
       "      <td>Ukraine</td>\n",
       "      <td>50.63N</td>\n",
       "      <td>31.69E</td>\n",
       "    </tr>\n",
       "    <tr>\n",
       "      <td>118160</td>\n",
       "      <td>2013-08-01</td>\n",
       "      <td>19.944</td>\n",
       "      <td>0.327</td>\n",
       "      <td>Kiev</td>\n",
       "      <td>Ukraine</td>\n",
       "      <td>50.63N</td>\n",
       "      <td>31.69E</td>\n",
       "    </tr>\n",
       "  </tbody>\n",
       "</table>\n",
       "<p>3166 rows × 7 columns</p>\n",
       "</div>"
      ],
      "text/plain": [
       "                dt  AverageTemperature  AverageTemperatureUncertainty  City  \\\n",
       "114923  1743-11-01               0.895                          2.092  Kiev   \n",
       "114928  1744-04-01               9.820                          2.498  Kiev   \n",
       "114929  1744-05-01              13.142                          1.845  Kiev   \n",
       "114930  1744-06-01              17.393                          1.703  Kiev   \n",
       "114931  1744-07-01              19.389                          1.592  Kiev   \n",
       "...            ...                 ...                            ...   ...   \n",
       "118156  2013-04-01               9.827                          0.341  Kiev   \n",
       "118157  2013-05-01              19.000                          0.300  Kiev   \n",
       "118158  2013-06-01              21.222                          0.346  Kiev   \n",
       "118159  2013-07-01              20.483                          0.244  Kiev   \n",
       "118160  2013-08-01              19.944                          0.327  Kiev   \n",
       "\n",
       "        Country Latitude Longitude  \n",
       "114923  Ukraine   50.63N    31.69E  \n",
       "114928  Ukraine   50.63N    31.69E  \n",
       "114929  Ukraine   50.63N    31.69E  \n",
       "114930  Ukraine   50.63N    31.69E  \n",
       "114931  Ukraine   50.63N    31.69E  \n",
       "...         ...      ...       ...  \n",
       "118156  Ukraine   50.63N    31.69E  \n",
       "118157  Ukraine   50.63N    31.69E  \n",
       "118158  Ukraine   50.63N    31.69E  \n",
       "118159  Ukraine   50.63N    31.69E  \n",
       "118160  Ukraine   50.63N    31.69E  \n",
       "\n",
       "[3166 rows x 7 columns]"
      ]
     },
     "execution_count": 77,
     "metadata": {},
     "output_type": "execute_result"
    }
   ],
   "source": [
    "dfk.dropna()"
   ]
  },
  {
   "cell_type": "code",
   "execution_count": 78,
   "metadata": {},
   "outputs": [
    {
     "data": {
      "text/html": [
       "<div>\n",
       "<style scoped>\n",
       "    .dataframe tbody tr th:only-of-type {\n",
       "        vertical-align: middle;\n",
       "    }\n",
       "\n",
       "    .dataframe tbody tr th {\n",
       "        vertical-align: top;\n",
       "    }\n",
       "\n",
       "    .dataframe thead th {\n",
       "        text-align: right;\n",
       "    }\n",
       "</style>\n",
       "<table border=\"1\" class=\"dataframe\">\n",
       "  <thead>\n",
       "    <tr style=\"text-align: right;\">\n",
       "      <th></th>\n",
       "      <th>dt</th>\n",
       "      <th>AverageTemperature</th>\n",
       "      <th>AverageTemperatureUncertainty</th>\n",
       "      <th>City</th>\n",
       "      <th>Country</th>\n",
       "      <th>Latitude</th>\n",
       "      <th>Longitude</th>\n",
       "    </tr>\n",
       "  </thead>\n",
       "  <tbody>\n",
       "    <tr>\n",
       "      <td>114923</td>\n",
       "      <td>1743-11-01</td>\n",
       "      <td>0.895</td>\n",
       "      <td>2.092</td>\n",
       "      <td>Kiev</td>\n",
       "      <td>Ukraine</td>\n",
       "      <td>50.63N</td>\n",
       "      <td>31.69E</td>\n",
       "    </tr>\n",
       "    <tr>\n",
       "      <td>114928</td>\n",
       "      <td>1744-04-01</td>\n",
       "      <td>9.820</td>\n",
       "      <td>2.498</td>\n",
       "      <td>Kiev</td>\n",
       "      <td>Ukraine</td>\n",
       "      <td>50.63N</td>\n",
       "      <td>31.69E</td>\n",
       "    </tr>\n",
       "    <tr>\n",
       "      <td>114929</td>\n",
       "      <td>1744-05-01</td>\n",
       "      <td>13.142</td>\n",
       "      <td>1.845</td>\n",
       "      <td>Kiev</td>\n",
       "      <td>Ukraine</td>\n",
       "      <td>50.63N</td>\n",
       "      <td>31.69E</td>\n",
       "    </tr>\n",
       "    <tr>\n",
       "      <td>114930</td>\n",
       "      <td>1744-06-01</td>\n",
       "      <td>17.393</td>\n",
       "      <td>1.703</td>\n",
       "      <td>Kiev</td>\n",
       "      <td>Ukraine</td>\n",
       "      <td>50.63N</td>\n",
       "      <td>31.69E</td>\n",
       "    </tr>\n",
       "    <tr>\n",
       "      <td>114931</td>\n",
       "      <td>1744-07-01</td>\n",
       "      <td>19.389</td>\n",
       "      <td>1.592</td>\n",
       "      <td>Kiev</td>\n",
       "      <td>Ukraine</td>\n",
       "      <td>50.63N</td>\n",
       "      <td>31.69E</td>\n",
       "    </tr>\n",
       "    <tr>\n",
       "      <td>...</td>\n",
       "      <td>...</td>\n",
       "      <td>...</td>\n",
       "      <td>...</td>\n",
       "      <td>...</td>\n",
       "      <td>...</td>\n",
       "      <td>...</td>\n",
       "      <td>...</td>\n",
       "    </tr>\n",
       "    <tr>\n",
       "      <td>118156</td>\n",
       "      <td>2013-04-01</td>\n",
       "      <td>9.827</td>\n",
       "      <td>0.341</td>\n",
       "      <td>Kiev</td>\n",
       "      <td>Ukraine</td>\n",
       "      <td>50.63N</td>\n",
       "      <td>31.69E</td>\n",
       "    </tr>\n",
       "    <tr>\n",
       "      <td>118157</td>\n",
       "      <td>2013-05-01</td>\n",
       "      <td>19.000</td>\n",
       "      <td>0.300</td>\n",
       "      <td>Kiev</td>\n",
       "      <td>Ukraine</td>\n",
       "      <td>50.63N</td>\n",
       "      <td>31.69E</td>\n",
       "    </tr>\n",
       "    <tr>\n",
       "      <td>118158</td>\n",
       "      <td>2013-06-01</td>\n",
       "      <td>21.222</td>\n",
       "      <td>0.346</td>\n",
       "      <td>Kiev</td>\n",
       "      <td>Ukraine</td>\n",
       "      <td>50.63N</td>\n",
       "      <td>31.69E</td>\n",
       "    </tr>\n",
       "    <tr>\n",
       "      <td>118159</td>\n",
       "      <td>2013-07-01</td>\n",
       "      <td>20.483</td>\n",
       "      <td>0.244</td>\n",
       "      <td>Kiev</td>\n",
       "      <td>Ukraine</td>\n",
       "      <td>50.63N</td>\n",
       "      <td>31.69E</td>\n",
       "    </tr>\n",
       "    <tr>\n",
       "      <td>118160</td>\n",
       "      <td>2013-08-01</td>\n",
       "      <td>19.944</td>\n",
       "      <td>0.327</td>\n",
       "      <td>Kiev</td>\n",
       "      <td>Ukraine</td>\n",
       "      <td>50.63N</td>\n",
       "      <td>31.69E</td>\n",
       "    </tr>\n",
       "  </tbody>\n",
       "</table>\n",
       "<p>3166 rows × 7 columns</p>\n",
       "</div>"
      ],
      "text/plain": [
       "                dt  AverageTemperature  AverageTemperatureUncertainty  City  \\\n",
       "114923  1743-11-01               0.895                          2.092  Kiev   \n",
       "114928  1744-04-01               9.820                          2.498  Kiev   \n",
       "114929  1744-05-01              13.142                          1.845  Kiev   \n",
       "114930  1744-06-01              17.393                          1.703  Kiev   \n",
       "114931  1744-07-01              19.389                          1.592  Kiev   \n",
       "...            ...                 ...                            ...   ...   \n",
       "118156  2013-04-01               9.827                          0.341  Kiev   \n",
       "118157  2013-05-01              19.000                          0.300  Kiev   \n",
       "118158  2013-06-01              21.222                          0.346  Kiev   \n",
       "118159  2013-07-01              20.483                          0.244  Kiev   \n",
       "118160  2013-08-01              19.944                          0.327  Kiev   \n",
       "\n",
       "        Country Latitude Longitude  \n",
       "114923  Ukraine   50.63N    31.69E  \n",
       "114928  Ukraine   50.63N    31.69E  \n",
       "114929  Ukraine   50.63N    31.69E  \n",
       "114930  Ukraine   50.63N    31.69E  \n",
       "114931  Ukraine   50.63N    31.69E  \n",
       "...         ...      ...       ...  \n",
       "118156  Ukraine   50.63N    31.69E  \n",
       "118157  Ukraine   50.63N    31.69E  \n",
       "118158  Ukraine   50.63N    31.69E  \n",
       "118159  Ukraine   50.63N    31.69E  \n",
       "118160  Ukraine   50.63N    31.69E  \n",
       "\n",
       "[3166 rows x 7 columns]"
      ]
     },
     "execution_count": 78,
     "metadata": {},
     "output_type": "execute_result"
    }
   ],
   "source": [
    "dfk.dropna()"
   ]
  },
  {
   "cell_type": "code",
   "execution_count": 79,
   "metadata": {
    "scrolled": true
   },
   "outputs": [
    {
     "data": {
      "text/html": [
       "<div>\n",
       "<style scoped>\n",
       "    .dataframe tbody tr th:only-of-type {\n",
       "        vertical-align: middle;\n",
       "    }\n",
       "\n",
       "    .dataframe tbody tr th {\n",
       "        vertical-align: top;\n",
       "    }\n",
       "\n",
       "    .dataframe thead th {\n",
       "        text-align: right;\n",
       "    }\n",
       "</style>\n",
       "<table border=\"1\" class=\"dataframe\">\n",
       "  <thead>\n",
       "    <tr style=\"text-align: right;\">\n",
       "      <th></th>\n",
       "      <th>dt</th>\n",
       "      <th>AverageTemperature</th>\n",
       "      <th>AverageTemperatureUncertainty</th>\n",
       "      <th>City</th>\n",
       "      <th>Country</th>\n",
       "      <th>Latitude</th>\n",
       "      <th>Longitude</th>\n",
       "    </tr>\n",
       "  </thead>\n",
       "  <tbody>\n",
       "    <tr>\n",
       "      <td>114923</td>\n",
       "      <td>1743-11-01</td>\n",
       "      <td>0.895</td>\n",
       "      <td>2.0920</td>\n",
       "      <td>Kiev</td>\n",
       "      <td>Ukraine</td>\n",
       "      <td>50.63N</td>\n",
       "      <td>31.69E</td>\n",
       "    </tr>\n",
       "    <tr>\n",
       "      <td>114924</td>\n",
       "      <td>1743-12-01</td>\n",
       "      <td>2.680</td>\n",
       "      <td>2.1732</td>\n",
       "      <td>Kiev</td>\n",
       "      <td>Ukraine</td>\n",
       "      <td>50.63N</td>\n",
       "      <td>31.69E</td>\n",
       "    </tr>\n",
       "    <tr>\n",
       "      <td>114925</td>\n",
       "      <td>1744-01-01</td>\n",
       "      <td>4.465</td>\n",
       "      <td>2.2544</td>\n",
       "      <td>Kiev</td>\n",
       "      <td>Ukraine</td>\n",
       "      <td>50.63N</td>\n",
       "      <td>31.69E</td>\n",
       "    </tr>\n",
       "    <tr>\n",
       "      <td>114926</td>\n",
       "      <td>1744-02-01</td>\n",
       "      <td>6.250</td>\n",
       "      <td>2.3356</td>\n",
       "      <td>Kiev</td>\n",
       "      <td>Ukraine</td>\n",
       "      <td>50.63N</td>\n",
       "      <td>31.69E</td>\n",
       "    </tr>\n",
       "    <tr>\n",
       "      <td>114927</td>\n",
       "      <td>1744-03-01</td>\n",
       "      <td>8.035</td>\n",
       "      <td>2.4168</td>\n",
       "      <td>Kiev</td>\n",
       "      <td>Ukraine</td>\n",
       "      <td>50.63N</td>\n",
       "      <td>31.69E</td>\n",
       "    </tr>\n",
       "    <tr>\n",
       "      <td>...</td>\n",
       "      <td>...</td>\n",
       "      <td>...</td>\n",
       "      <td>...</td>\n",
       "      <td>...</td>\n",
       "      <td>...</td>\n",
       "      <td>...</td>\n",
       "      <td>...</td>\n",
       "    </tr>\n",
       "    <tr>\n",
       "      <td>118157</td>\n",
       "      <td>2013-05-01</td>\n",
       "      <td>19.000</td>\n",
       "      <td>0.3000</td>\n",
       "      <td>Kiev</td>\n",
       "      <td>Ukraine</td>\n",
       "      <td>50.63N</td>\n",
       "      <td>31.69E</td>\n",
       "    </tr>\n",
       "    <tr>\n",
       "      <td>118158</td>\n",
       "      <td>2013-06-01</td>\n",
       "      <td>21.222</td>\n",
       "      <td>0.3460</td>\n",
       "      <td>Kiev</td>\n",
       "      <td>Ukraine</td>\n",
       "      <td>50.63N</td>\n",
       "      <td>31.69E</td>\n",
       "    </tr>\n",
       "    <tr>\n",
       "      <td>118159</td>\n",
       "      <td>2013-07-01</td>\n",
       "      <td>20.483</td>\n",
       "      <td>0.2440</td>\n",
       "      <td>Kiev</td>\n",
       "      <td>Ukraine</td>\n",
       "      <td>50.63N</td>\n",
       "      <td>31.69E</td>\n",
       "    </tr>\n",
       "    <tr>\n",
       "      <td>118160</td>\n",
       "      <td>2013-08-01</td>\n",
       "      <td>19.944</td>\n",
       "      <td>0.3270</td>\n",
       "      <td>Kiev</td>\n",
       "      <td>Ukraine</td>\n",
       "      <td>50.63N</td>\n",
       "      <td>31.69E</td>\n",
       "    </tr>\n",
       "    <tr>\n",
       "      <td>118161</td>\n",
       "      <td>2013-09-01</td>\n",
       "      <td>19.944</td>\n",
       "      <td>0.3270</td>\n",
       "      <td>Kiev</td>\n",
       "      <td>Ukraine</td>\n",
       "      <td>50.63N</td>\n",
       "      <td>31.69E</td>\n",
       "    </tr>\n",
       "  </tbody>\n",
       "</table>\n",
       "<p>3239 rows × 7 columns</p>\n",
       "</div>"
      ],
      "text/plain": [
       "                dt  AverageTemperature  AverageTemperatureUncertainty  City  \\\n",
       "114923  1743-11-01               0.895                         2.0920  Kiev   \n",
       "114924  1743-12-01               2.680                         2.1732  Kiev   \n",
       "114925  1744-01-01               4.465                         2.2544  Kiev   \n",
       "114926  1744-02-01               6.250                         2.3356  Kiev   \n",
       "114927  1744-03-01               8.035                         2.4168  Kiev   \n",
       "...            ...                 ...                            ...   ...   \n",
       "118157  2013-05-01              19.000                         0.3000  Kiev   \n",
       "118158  2013-06-01              21.222                         0.3460  Kiev   \n",
       "118159  2013-07-01              20.483                         0.2440  Kiev   \n",
       "118160  2013-08-01              19.944                         0.3270  Kiev   \n",
       "118161  2013-09-01              19.944                         0.3270  Kiev   \n",
       "\n",
       "        Country Latitude Longitude  \n",
       "114923  Ukraine   50.63N    31.69E  \n",
       "114924  Ukraine   50.63N    31.69E  \n",
       "114925  Ukraine   50.63N    31.69E  \n",
       "114926  Ukraine   50.63N    31.69E  \n",
       "114927  Ukraine   50.63N    31.69E  \n",
       "...         ...      ...       ...  \n",
       "118157  Ukraine   50.63N    31.69E  \n",
       "118158  Ukraine   50.63N    31.69E  \n",
       "118159  Ukraine   50.63N    31.69E  \n",
       "118160  Ukraine   50.63N    31.69E  \n",
       "118161  Ukraine   50.63N    31.69E  \n",
       "\n",
       "[3239 rows x 7 columns]"
      ]
     },
     "execution_count": 79,
     "metadata": {},
     "output_type": "execute_result"
    }
   ],
   "source": [
    "dfk.interpolate()"
   ]
  },
  {
   "cell_type": "code",
   "execution_count": 80,
   "metadata": {},
   "outputs": [
    {
     "data": {
      "text/html": [
       "<div>\n",
       "<style scoped>\n",
       "    .dataframe tbody tr th:only-of-type {\n",
       "        vertical-align: middle;\n",
       "    }\n",
       "\n",
       "    .dataframe tbody tr th {\n",
       "        vertical-align: top;\n",
       "    }\n",
       "\n",
       "    .dataframe thead th {\n",
       "        text-align: right;\n",
       "    }\n",
       "</style>\n",
       "<table border=\"1\" class=\"dataframe\">\n",
       "  <thead>\n",
       "    <tr style=\"text-align: right;\">\n",
       "      <th></th>\n",
       "      <th>dt</th>\n",
       "      <th>AverageTemperature</th>\n",
       "      <th>AverageTemperatureUncertainty</th>\n",
       "      <th>City</th>\n",
       "      <th>Country</th>\n",
       "      <th>Latitude</th>\n",
       "      <th>Longitude</th>\n",
       "    </tr>\n",
       "  </thead>\n",
       "  <tbody>\n",
       "    <tr>\n",
       "      <td>114923</td>\n",
       "      <td>1743-11-01</td>\n",
       "      <td>0.8950</td>\n",
       "      <td>2.0920</td>\n",
       "      <td>Kiev</td>\n",
       "      <td>Ukraine</td>\n",
       "      <td>50.63N</td>\n",
       "      <td>31.69E</td>\n",
       "    </tr>\n",
       "    <tr>\n",
       "      <td>114924</td>\n",
       "      <td>1743-12-01</td>\n",
       "      <td>7.2975</td>\n",
       "      <td>7.2975</td>\n",
       "      <td>Kiev</td>\n",
       "      <td>Ukraine</td>\n",
       "      <td>50.63N</td>\n",
       "      <td>31.69E</td>\n",
       "    </tr>\n",
       "    <tr>\n",
       "      <td>114925</td>\n",
       "      <td>1744-01-01</td>\n",
       "      <td>7.2975</td>\n",
       "      <td>7.2975</td>\n",
       "      <td>Kiev</td>\n",
       "      <td>Ukraine</td>\n",
       "      <td>50.63N</td>\n",
       "      <td>31.69E</td>\n",
       "    </tr>\n",
       "    <tr>\n",
       "      <td>114926</td>\n",
       "      <td>1744-02-01</td>\n",
       "      <td>7.2975</td>\n",
       "      <td>7.2975</td>\n",
       "      <td>Kiev</td>\n",
       "      <td>Ukraine</td>\n",
       "      <td>50.63N</td>\n",
       "      <td>31.69E</td>\n",
       "    </tr>\n",
       "    <tr>\n",
       "      <td>114927</td>\n",
       "      <td>1744-03-01</td>\n",
       "      <td>7.2975</td>\n",
       "      <td>7.2975</td>\n",
       "      <td>Kiev</td>\n",
       "      <td>Ukraine</td>\n",
       "      <td>50.63N</td>\n",
       "      <td>31.69E</td>\n",
       "    </tr>\n",
       "    <tr>\n",
       "      <td>...</td>\n",
       "      <td>...</td>\n",
       "      <td>...</td>\n",
       "      <td>...</td>\n",
       "      <td>...</td>\n",
       "      <td>...</td>\n",
       "      <td>...</td>\n",
       "      <td>...</td>\n",
       "    </tr>\n",
       "    <tr>\n",
       "      <td>118157</td>\n",
       "      <td>2013-05-01</td>\n",
       "      <td>19.0000</td>\n",
       "      <td>0.3000</td>\n",
       "      <td>Kiev</td>\n",
       "      <td>Ukraine</td>\n",
       "      <td>50.63N</td>\n",
       "      <td>31.69E</td>\n",
       "    </tr>\n",
       "    <tr>\n",
       "      <td>118158</td>\n",
       "      <td>2013-06-01</td>\n",
       "      <td>21.2220</td>\n",
       "      <td>0.3460</td>\n",
       "      <td>Kiev</td>\n",
       "      <td>Ukraine</td>\n",
       "      <td>50.63N</td>\n",
       "      <td>31.69E</td>\n",
       "    </tr>\n",
       "    <tr>\n",
       "      <td>118159</td>\n",
       "      <td>2013-07-01</td>\n",
       "      <td>20.4830</td>\n",
       "      <td>0.2440</td>\n",
       "      <td>Kiev</td>\n",
       "      <td>Ukraine</td>\n",
       "      <td>50.63N</td>\n",
       "      <td>31.69E</td>\n",
       "    </tr>\n",
       "    <tr>\n",
       "      <td>118160</td>\n",
       "      <td>2013-08-01</td>\n",
       "      <td>19.9440</td>\n",
       "      <td>0.3270</td>\n",
       "      <td>Kiev</td>\n",
       "      <td>Ukraine</td>\n",
       "      <td>50.63N</td>\n",
       "      <td>31.69E</td>\n",
       "    </tr>\n",
       "    <tr>\n",
       "      <td>118161</td>\n",
       "      <td>2013-09-01</td>\n",
       "      <td>7.2975</td>\n",
       "      <td>7.2975</td>\n",
       "      <td>Kiev</td>\n",
       "      <td>Ukraine</td>\n",
       "      <td>50.63N</td>\n",
       "      <td>31.69E</td>\n",
       "    </tr>\n",
       "  </tbody>\n",
       "</table>\n",
       "<p>3239 rows × 7 columns</p>\n",
       "</div>"
      ],
      "text/plain": [
       "                dt  AverageTemperature  AverageTemperatureUncertainty  City  \\\n",
       "114923  1743-11-01              0.8950                         2.0920  Kiev   \n",
       "114924  1743-12-01              7.2975                         7.2975  Kiev   \n",
       "114925  1744-01-01              7.2975                         7.2975  Kiev   \n",
       "114926  1744-02-01              7.2975                         7.2975  Kiev   \n",
       "114927  1744-03-01              7.2975                         7.2975  Kiev   \n",
       "...            ...                 ...                            ...   ...   \n",
       "118157  2013-05-01             19.0000                         0.3000  Kiev   \n",
       "118158  2013-06-01             21.2220                         0.3460  Kiev   \n",
       "118159  2013-07-01             20.4830                         0.2440  Kiev   \n",
       "118160  2013-08-01             19.9440                         0.3270  Kiev   \n",
       "118161  2013-09-01              7.2975                         7.2975  Kiev   \n",
       "\n",
       "        Country Latitude Longitude  \n",
       "114923  Ukraine   50.63N    31.69E  \n",
       "114924  Ukraine   50.63N    31.69E  \n",
       "114925  Ukraine   50.63N    31.69E  \n",
       "114926  Ukraine   50.63N    31.69E  \n",
       "114927  Ukraine   50.63N    31.69E  \n",
       "...         ...      ...       ...  \n",
       "118157  Ukraine   50.63N    31.69E  \n",
       "118158  Ukraine   50.63N    31.69E  \n",
       "118159  Ukraine   50.63N    31.69E  \n",
       "118160  Ukraine   50.63N    31.69E  \n",
       "118161  Ukraine   50.63N    31.69E  \n",
       "\n",
       "[3239 rows x 7 columns]"
      ]
     },
     "execution_count": 80,
     "metadata": {},
     "output_type": "execute_result"
    }
   ],
   "source": [
    "dfk.fillna(dfk['AverageTemperature'].median())"
   ]
  },
  {
   "cell_type": "code",
   "execution_count": 81,
   "metadata": {},
   "outputs": [
    {
     "data": {
      "text/plain": [
       "<matplotlib.axes._subplots.AxesSubplot at 0x123cba810>"
      ]
     },
     "execution_count": 81,
     "metadata": {},
     "output_type": "execute_result"
    },
    {
     "data": {
      "image/png": "[encoded data removed]",
      "text/plain": [
       "<Figure size 432x288 with 1 Axes>"
      ]
     },
     "metadata": {
      "needs_background": "light"
     },
     "output_type": "display_data"
    }
   ],
   "source": [
    "dfk.fillna(dfk['AverageTemperature'].median()).plot()"
   ]
  },
  {
   "cell_type": "code",
   "execution_count": 82,
   "metadata": {},
   "outputs": [],
   "source": [
    "dfk = dfk.fillna(dfk['AverageTemperature'].median())"
   ]
  },
  {
   "cell_type": "code",
   "execution_count": 83,
   "metadata": {},
   "outputs": [
    {
     "data": {
      "text/html": [
       "<div>\n",
       "<style scoped>\n",
       "    .dataframe tbody tr th:only-of-type {\n",
       "        vertical-align: middle;\n",
       "    }\n",
       "\n",
       "    .dataframe tbody tr th {\n",
       "        vertical-align: top;\n",
       "    }\n",
       "\n",
       "    .dataframe thead th {\n",
       "        text-align: right;\n",
       "    }\n",
       "</style>\n",
       "<table border=\"1\" class=\"dataframe\">\n",
       "  <thead>\n",
       "    <tr style=\"text-align: right;\">\n",
       "      <th></th>\n",
       "      <th>AverageTemperature</th>\n",
       "      <th>dt</th>\n",
       "    </tr>\n",
       "  </thead>\n",
       "  <tbody>\n",
       "    <tr>\n",
       "      <td>114923</td>\n",
       "      <td>0.8950</td>\n",
       "      <td>1743-11-01</td>\n",
       "    </tr>\n",
       "    <tr>\n",
       "      <td>114924</td>\n",
       "      <td>7.2975</td>\n",
       "      <td>1743-12-01</td>\n",
       "    </tr>\n",
       "    <tr>\n",
       "      <td>114925</td>\n",
       "      <td>7.2975</td>\n",
       "      <td>1744-01-01</td>\n",
       "    </tr>\n",
       "    <tr>\n",
       "      <td>114926</td>\n",
       "      <td>7.2975</td>\n",
       "      <td>1744-02-01</td>\n",
       "    </tr>\n",
       "    <tr>\n",
       "      <td>114927</td>\n",
       "      <td>7.2975</td>\n",
       "      <td>1744-03-01</td>\n",
       "    </tr>\n",
       "  </tbody>\n",
       "</table>\n",
       "</div>"
      ],
      "text/plain": [
       "        AverageTemperature          dt\n",
       "114923              0.8950  1743-11-01\n",
       "114924              7.2975  1743-12-01\n",
       "114925              7.2975  1744-01-01\n",
       "114926              7.2975  1744-02-01\n",
       "114927              7.2975  1744-03-01"
      ]
     },
     "execution_count": 83,
     "metadata": {},
     "output_type": "execute_result"
    }
   ],
   "source": [
    "dfk = dfk[['AverageTemperature', 'dt']]\n",
    "dfk.head()"
   ]
  },
  {
   "cell_type": "code",
   "execution_count": 84,
   "metadata": {},
   "outputs": [
    {
     "data": {
      "text/plain": [
       "'1743-11-01'"
      ]
     },
     "execution_count": 84,
     "metadata": {},
     "output_type": "execute_result"
    }
   ],
   "source": [
    "dfk.iloc[0, 1]"
   ]
  },
  {
   "cell_type": "code",
   "execution_count": 85,
   "metadata": {},
   "outputs": [
    {
     "data": {
      "text/plain": [
       "1743"
      ]
     },
     "execution_count": 85,
     "metadata": {},
     "output_type": "execute_result"
    }
   ],
   "source": [
    "pd.to_datetime(dfk.iloc[0, 1]).year"
   ]
  },
  {
   "cell_type": "code",
   "execution_count": 86,
   "metadata": {},
   "outputs": [
    {
     "data": {
      "text/plain": [
       "114923    1743\n",
       "114924    1743\n",
       "114925    1744\n",
       "114926    1744\n",
       "114927    1744\n",
       "          ... \n",
       "118157    2013\n",
       "118158    2013\n",
       "118159    2013\n",
       "118160    2013\n",
       "118161    2013\n",
       "Name: dt, Length: 3239, dtype: int64"
      ]
     },
     "execution_count": 86,
     "metadata": {},
     "output_type": "execute_result"
    }
   ],
   "source": [
    "dfk['dt'].apply(lambda x: pd.to_datetime(x).year)"
   ]
  },
  {
   "cell_type": "code",
   "execution_count": 87,
   "metadata": {},
   "outputs": [],
   "source": [
    "dfk['year'] = dfk['dt'].apply(lambda x: pd.to_datetime(x).year)"
   ]
  },
  {
   "cell_type": "code",
   "execution_count": 88,
   "metadata": {},
   "outputs": [
    {
     "data": {
      "text/html": [
       "<div>\n",
       "<style scoped>\n",
       "    .dataframe tbody tr th:only-of-type {\n",
       "        vertical-align: middle;\n",
       "    }\n",
       "\n",
       "    .dataframe tbody tr th {\n",
       "        vertical-align: top;\n",
       "    }\n",
       "\n",
       "    .dataframe thead th {\n",
       "        text-align: right;\n",
       "    }\n",
       "</style>\n",
       "<table border=\"1\" class=\"dataframe\">\n",
       "  <thead>\n",
       "    <tr style=\"text-align: right;\">\n",
       "      <th></th>\n",
       "      <th>AverageTemperature</th>\n",
       "      <th>dt</th>\n",
       "      <th>year</th>\n",
       "    </tr>\n",
       "  </thead>\n",
       "  <tbody>\n",
       "    <tr>\n",
       "      <td>114923</td>\n",
       "      <td>0.8950</td>\n",
       "      <td>1743-11-01</td>\n",
       "      <td>1743</td>\n",
       "    </tr>\n",
       "    <tr>\n",
       "      <td>114924</td>\n",
       "      <td>7.2975</td>\n",
       "      <td>1743-12-01</td>\n",
       "      <td>1743</td>\n",
       "    </tr>\n",
       "    <tr>\n",
       "      <td>114925</td>\n",
       "      <td>7.2975</td>\n",
       "      <td>1744-01-01</td>\n",
       "      <td>1744</td>\n",
       "    </tr>\n",
       "    <tr>\n",
       "      <td>114926</td>\n",
       "      <td>7.2975</td>\n",
       "      <td>1744-02-01</td>\n",
       "      <td>1744</td>\n",
       "    </tr>\n",
       "    <tr>\n",
       "      <td>114927</td>\n",
       "      <td>7.2975</td>\n",
       "      <td>1744-03-01</td>\n",
       "      <td>1744</td>\n",
       "    </tr>\n",
       "    <tr>\n",
       "      <td>...</td>\n",
       "      <td>...</td>\n",
       "      <td>...</td>\n",
       "      <td>...</td>\n",
       "    </tr>\n",
       "    <tr>\n",
       "      <td>118157</td>\n",
       "      <td>19.0000</td>\n",
       "      <td>2013-05-01</td>\n",
       "      <td>2013</td>\n",
       "    </tr>\n",
       "    <tr>\n",
       "      <td>118158</td>\n",
       "      <td>21.2220</td>\n",
       "      <td>2013-06-01</td>\n",
       "      <td>2013</td>\n",
       "    </tr>\n",
       "    <tr>\n",
       "      <td>118159</td>\n",
       "      <td>20.4830</td>\n",
       "      <td>2013-07-01</td>\n",
       "      <td>2013</td>\n",
       "    </tr>\n",
       "    <tr>\n",
       "      <td>118160</td>\n",
       "      <td>19.9440</td>\n",
       "      <td>2013-08-01</td>\n",
       "      <td>2013</td>\n",
       "    </tr>\n",
       "    <tr>\n",
       "      <td>118161</td>\n",
       "      <td>7.2975</td>\n",
       "      <td>2013-09-01</td>\n",
       "      <td>2013</td>\n",
       "    </tr>\n",
       "  </tbody>\n",
       "</table>\n",
       "<p>3239 rows × 3 columns</p>\n",
       "</div>"
      ],
      "text/plain": [
       "        AverageTemperature          dt  year\n",
       "114923              0.8950  1743-11-01  1743\n",
       "114924              7.2975  1743-12-01  1743\n",
       "114925              7.2975  1744-01-01  1744\n",
       "114926              7.2975  1744-02-01  1744\n",
       "114927              7.2975  1744-03-01  1744\n",
       "...                    ...         ...   ...\n",
       "118157             19.0000  2013-05-01  2013\n",
       "118158             21.2220  2013-06-01  2013\n",
       "118159             20.4830  2013-07-01  2013\n",
       "118160             19.9440  2013-08-01  2013\n",
       "118161              7.2975  2013-09-01  2013\n",
       "\n",
       "[3239 rows x 3 columns]"
      ]
     },
     "execution_count": 88,
     "metadata": {},
     "output_type": "execute_result"
    }
   ],
   "source": [
    "dfk"
   ]
  },
  {
   "cell_type": "code",
   "execution_count": 89,
   "metadata": {},
   "outputs": [
    {
     "data": {
      "text/plain": [
       "year\n",
       "1743    4.096250\n",
       "1744    8.764917\n",
       "1745    4.037083\n",
       "1746    7.297500\n",
       "1747    7.297500\n",
       "          ...   \n",
       "2009    8.819750\n",
       "2010    8.965000\n",
       "2011    8.479667\n",
       "2012    8.564583\n",
       "2013    9.994278\n",
       "Name: AverageTemperature, Length: 271, dtype: float64"
      ]
     },
     "execution_count": 89,
     "metadata": {},
     "output_type": "execute_result"
    }
   ],
   "source": [
    "dfk.groupby('year')['AverageTemperature'].mean()"
   ]
  },
  {
   "cell_type": "code",
   "execution_count": 90,
   "metadata": {},
   "outputs": [
    {
     "data": {
      "text/plain": [
       "<matplotlib.axes._subplots.AxesSubplot at 0x123caec90>"
      ]
     },
     "execution_count": 90,
     "metadata": {},
     "output_type": "execute_result"
    },
    {
     "data": {
      "image/png": "[encoded data removed]",
      "text/plain": [
       "<Figure size 432x288 with 1 Axes>"
      ]
     },
     "metadata": {
      "needs_background": "light"
     },
     "output_type": "display_data"
    }
   ],
   "source": [
    "dfk.groupby('year')['AverageTemperature'].mean().plot()"
   ]
  },
  {
   "cell_type": "code",
   "execution_count": 91,
   "metadata": {},
   "outputs": [
    {
     "data": {
      "text/plain": [
       "Int64Index([1743, 1744, 1745, 1746, 1747, 1748, 1749, 1750, 1751, 1752,\n",
       "            ...\n",
       "            2004, 2005, 2006, 2007, 2008, 2009, 2010, 2011, 2012, 2013],\n",
       "           dtype='int64', name='year', length=271)"
      ]
     },
     "execution_count": 91,
     "metadata": {},
     "output_type": "execute_result"
    }
   ],
   "source": [
    "dfkm = dfk.groupby('year')['AverageTemperature'].mean()\n",
    "dfkm.index"
   ]
  },
  {
   "cell_type": "code",
   "execution_count": 92,
   "metadata": {},
   "outputs": [],
   "source": [
    "x = dfkm.index\n",
    "y = dfkm.values"
   ]
  },
  {
   "cell_type": "code",
   "execution_count": 93,
   "metadata": {},
   "outputs": [],
   "source": [
    "y = dfkm.values\n",
    "z1 = np.polyfit(x, y, 1)"
   ]
  },
  {
   "cell_type": "code",
   "execution_count": 94,
   "metadata": {
    "scrolled": true
   },
   "outputs": [
    {
     "data": {
      "text/plain": [
       "array([ 0.00398309, -0.43979264])"
      ]
     },
     "execution_count": 94,
     "metadata": {},
     "output_type": "execute_result"
    }
   ],
   "source": [
    "z1"
   ]
  },
  {
   "cell_type": "code",
   "execution_count": 95,
   "metadata": {},
   "outputs": [],
   "source": [
    "fl = np.poly1d(z1)"
   ]
  },
  {
   "cell_type": "code",
   "execution_count": 96,
   "metadata": {},
   "outputs": [
    {
     "data": {
      "text/plain": [
       "7.602075391764949"
      ]
     },
     "execution_count": 96,
     "metadata": {},
     "output_type": "execute_result"
    }
   ],
   "source": [
    "fl(2019)"
   ]
  },
  {
   "cell_type": "code",
   "execution_count": 97,
   "metadata": {},
   "outputs": [
    {
     "data": {
      "text/plain": [
       "0.7275092005553401"
      ]
     },
     "execution_count": 97,
     "metadata": {},
     "output_type": "execute_result"
    }
   ],
   "source": [
    "np.abs(y-fl(x)).mean()"
   ]
  },
  {
   "cell_type": "code",
   "execution_count": 98,
   "metadata": {},
   "outputs": [
    {
     "data": {
      "text/plain": [
       "[<matplotlib.lines.Line2D at 0x123bd09d0>]"
      ]
     },
     "execution_count": 98,
     "metadata": {},
     "output_type": "execute_result"
    },
    {
     "data": {
      "image/png": "[encoded data removed]",
      "text/plain": [
       "<Figure size 432x288 with 1 Axes>"
      ]
     },
     "metadata": {
      "needs_background": "light"
     },
     "output_type": "display_data"
    }
   ],
   "source": [
    "plt.plot(x, y)\n",
    "plt.plot(x, fl(x))"
   ]
  },
  {
   "cell_type": "code",
   "execution_count": 99,
   "metadata": {},
   "outputs": [],
   "source": [
    "z2 = np.polyfit(x, y, 2)\n",
    "f2 = np.poly1d(z2)"
   ]
  },
  {
   "cell_type": "code",
   "execution_count": 100,
   "metadata": {},
   "outputs": [
    {
     "data": {
      "text/plain": [
       "[<matplotlib.lines.Line2D at 0x123bf0110>]"
      ]
     },
     "execution_count": 100,
     "metadata": {},
     "output_type": "execute_result"
    },
    {
     "data": {
      "image/png": "[encoded data removed]",
      "text/plain": [
       "<Figure size 432x288 with 1 Axes>"
      ]
     },
     "metadata": {
      "needs_background": "light"
     },
     "output_type": "display_data"
    }
   ],
   "source": [
    "plt.plot(x, y)\n",
    "plt.plot(x, f2(x))"
   ]
  },
  {
   "cell_type": "code",
   "execution_count": 101,
   "metadata": {},
   "outputs": [
    {
     "data": {
      "text/plain": [
       "8.335704413485246"
      ]
     },
     "execution_count": 101,
     "metadata": {},
     "output_type": "execute_result"
    }
   ],
   "source": [
    "f2(2019)"
   ]
  },
  {
   "cell_type": "code",
   "execution_count": 102,
   "metadata": {},
   "outputs": [
    {
     "data": {
      "text/plain": [
       "0.665347112004604"
      ]
     },
     "execution_count": 102,
     "metadata": {},
     "output_type": "execute_result"
    }
   ],
   "source": [
    "np.abs(y-f2(x)).mean()"
   ]
  },
  {
   "cell_type": "code",
   "execution_count": 103,
   "metadata": {},
   "outputs": [],
   "source": [
    "z3 = np.polyfit(x, y, 3)\n",
    "f3 = np.poly1d(z3)"
   ]
  },
  {
   "cell_type": "code",
   "execution_count": 104,
   "metadata": {},
   "outputs": [
    {
     "data": {
      "text/plain": [
       "[<matplotlib.lines.Line2D at 0x12424c850>]"
      ]
     },
     "execution_count": 104,
     "metadata": {},
     "output_type": "execute_result"
    },
    {
     "data": {
      "image/png": "[encoded data removed]",
      "text/plain": [
       "<Figure size 432x288 with 1 Axes>"
      ]
     },
     "metadata": {
      "needs_background": "light"
     },
     "output_type": "display_data"
    }
   ],
   "source": [
    "plt.plot(x, y)\n",
    "plt.plot(x, f3(x))"
   ]
  },
  {
   "cell_type": "code",
   "execution_count": 105,
   "metadata": {},
   "outputs": [
    {
     "data": {
      "text/plain": [
       "8.861182999982248"
      ]
     },
     "execution_count": 105,
     "metadata": {},
     "output_type": "execute_result"
    }
   ],
   "source": [
    "f3(2019)"
   ]
  },
  {
   "cell_type": "code",
   "execution_count": 106,
   "metadata": {
    "scrolled": true
   },
   "outputs": [
    {
     "data": {
      "text/plain": [
       "0.6627451737169442"
      ]
     },
     "execution_count": 106,
     "metadata": {},
     "output_type": "execute_result"
    }
   ],
   "source": [
    "np.abs(y-f3(x)).mean()"
   ]
  },
  {
   "cell_type": "code",
   "execution_count": 107,
   "metadata": {},
   "outputs": [
    {
     "name": "stderr",
     "output_type": "stream",
     "text": [
      "/Users/dragon/opt/anaconda3/lib/python3.7/site-packages/numpy/lib/polynomial.py:629: RuntimeWarning: overflow encountered in multiply\n",
      "  scale = NX.sqrt((lhs*lhs).sum(axis=0))\n",
      "/Users/dragon/opt/anaconda3/lib/python3.7/site-packages/numpy/core/_methods.py:38: RuntimeWarning: overflow encountered in reduce\n",
      "  return umr_sum(a, axis, dtype, out, keepdims, initial, where)\n",
      "/Users/dragon/opt/anaconda3/lib/python3.7/site-packages/IPython/core/interactiveshell.py:3326: RankWarning: Polyfit may be poorly conditioned\n",
      "  exec(code_obj, self.user_global_ns, self.user_ns)\n"
     ]
    }
   ],
   "source": [
    "z50 = np.polyfit(x, y, 50)\n",
    "f50 = np.poly1d(z50)"
   ]
  },
  {
   "cell_type": "code",
   "execution_count": 108,
   "metadata": {},
   "outputs": [
    {
     "data": {
      "text/plain": [
       "[<matplotlib.lines.Line2D at 0x125558a10>]"
      ]
     },
     "execution_count": 108,
     "metadata": {},
     "output_type": "execute_result"
    },
    {
     "data": {
      "image/png": "[encoded data removed]",
      "text/plain": [
       "<Figure size 432x288 with 1 Axes>"
      ]
     },
     "metadata": {
      "needs_background": "light"
     },
     "output_type": "display_data"
    }
   ],
   "source": [
    "plt.plot(x, y)\n",
    "plt.plot(x, f50(x))"
   ]
  },
  {
   "cell_type": "code",
   "execution_count": 109,
   "metadata": {},
   "outputs": [
    {
     "data": {
      "text/plain": [
       "141.2203516960144"
      ]
     },
     "execution_count": 109,
     "metadata": {},
     "output_type": "execute_result"
    }
   ],
   "source": [
    "f50(2050)"
   ]
  },
  {
   "cell_type": "code",
   "execution_count": 110,
   "metadata": {},
   "outputs": [
    {
     "data": {
      "text/plain": [
       "0.651008847979553"
      ]
     },
     "execution_count": 110,
     "metadata": {},
     "output_type": "execute_result"
    }
   ],
   "source": [
    "np.abs(y-f50(x)).mean()"
   ]
  }
 ],
 "metadata": {
  "kernelspec": {
   "display_name": "Python 3",
   "language": "python",
   "name": "python3"
  },
  "language_info": {
   "codemirror_mode": {
    "name": "ipython",
    "version": 3
   },
   "file_extension": ".py",
   "mimetype": "text/x-python",
   "name": "python",
   "nbconvert_exporter": "python",
   "pygments_lexer": "ipython3",
   "version": "3.7.4"
  }
 },
 "nbformat": 4,
 "nbformat_minor": 2
}
